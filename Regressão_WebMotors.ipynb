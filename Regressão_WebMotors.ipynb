{
  "nbformat": 4,
  "nbformat_minor": 0,
  "metadata": {
    "colab": {
      "name": "Regressão_WebMotors.ipynb",
      "provenance": [],
      "collapsed_sections": [
        "5OfE7Kv14lhu",
        "yrdaYLut455X",
        "uvT0-5yR7Wr-",
        "-jFHO8vWIA5J",
        "rhge1_wk0-S5",
        "1MtHe78q9MGd",
        "9XxfumQgMr8_",
        "EWLGD4vJtsv7",
        "Naknv9MQuegY"
      ],
      "include_colab_link": true
    },
    "kernelspec": {
      "name": "python3",
      "display_name": "Python 3"
    },
    "language_info": {
      "name": "python"
    }
  },
  "cells": [
    {
      "cell_type": "markdown",
      "metadata": {
        "id": "view-in-github",
        "colab_type": "text"
      },
      "source": [
        "<a href=\"https://colab.research.google.com/github/sergiomelman/4linux-HandsOn-Flask-App/blob/main/Regress%C3%A3o_WebMotors.ipynb\" target=\"_parent\"><img src=\"https://colab.research.google.com/assets/colab-badge.svg\" alt=\"Open In Colab\"/></a>"
      ]
    },
    {
      "cell_type": "markdown",
      "metadata": {
        "id": "Rav8Idq24bUx"
      },
      "source": [
        "# Análise Exploratória e Regressão Linear com dados de Carros"
      ]
    },
    {
      "cell_type": "markdown",
      "metadata": {
        "id": "kgGqKXEvtbak"
      },
      "source": [
        "Descrição do Projeto: Projeto de Regressão Linear para estimar o valor de automóveis no Brasil."
      ]
    },
    {
      "cell_type": "markdown",
      "metadata": {
        "id": "5OfE7Kv14lhu"
      },
      "source": [
        "## Importando Bibliotecas"
      ]
    },
    {
      "cell_type": "code",
      "metadata": {
        "id": "L2-JCsvBhos0"
      },
      "source": [
        "#!pip install missingpy"
      ],
      "execution_count": null,
      "outputs": []
    },
    {
      "cell_type": "code",
      "metadata": {
        "id": "Ryfv_s2O4M_P"
      },
      "source": [
        "# Básicas Manipulação de dados\n",
        "import pandas as pd\n",
        "import numpy as np\n",
        "\n",
        "# Visualização\n",
        "import matplotlib.pyplot as plt\n",
        "import seaborn as sns\n",
        "sns.set_style('white')\n",
        "\n",
        "# Expressões Regulares\n",
        "import re\n",
        "\n",
        "# Estatística\n",
        "import statsmodels.api as sm\n",
        "from scipy import stats\n",
        "\n",
        "# Imputação de dados\n",
        "import missingpy\n",
        "\n",
        "# Scikit Learn\n",
        "from sklearn.model_selection import train_test_split, cross_validate, GridSearchCV\n",
        "from sklearn.dummy import DummyRegressor\n",
        "from sklearn.feature_selection import SelectKBest\n",
        "from sklearn.linear_model import LinearRegression, Ridge\n",
        "from sklearn.ensemble import RandomForestRegressor\n",
        "\n",
        "# Pickle para Salvar Modelo\n",
        "import pickle"
      ],
      "execution_count": null,
      "outputs": []
    },
    {
      "cell_type": "markdown",
      "metadata": {
        "id": "yrdaYLut455X"
      },
      "source": [
        "## Carregando o arquivo"
      ]
    },
    {
      "cell_type": "code",
      "metadata": {
        "id": "ligP5i0J43fd"
      },
      "source": [
        "# Carregar as primeiras 5 linhas do Dataset\n",
        "df = pd.read_csv('/content/webmotors.csv', encoding='ISO-8859-1' , nrows=5)"
      ],
      "execution_count": null,
      "outputs": []
    },
    {
      "cell_type": "code",
      "metadata": {
        "colab": {
          "base_uri": "https://localhost:8080/"
        },
        "id": "OqPlQI4h5A7a",
        "outputId": "d1867e24-0505-4c43-8d9e-6b74bf584e39"
      },
      "source": [
        "# Visualizando o dataset\n",
        "df"
      ],
      "execution_count": null,
      "outputs": [
        {
          "output_type": "execute_result",
          "data": {
            "text/html": [
              "<div>\n",
              "<style scoped>\n",
              "    .dataframe tbody tr th:only-of-type {\n",
              "        vertical-align: middle;\n",
              "    }\n",
              "\n",
              "    .dataframe tbody tr th {\n",
              "        vertical-align: top;\n",
              "    }\n",
              "\n",
              "    .dataframe thead th {\n",
              "        text-align: right;\n",
              "    }\n",
              "</style>\n",
              "<table border=\"1\" class=\"dataframe\">\n",
              "  <thead>\n",
              "    <tr style=\"text-align: right;\">\n",
              "      <th></th>\n",
              "      <th>Automóvel</th>\n",
              "      <th>Descrição</th>\n",
              "      <th>Automático</th>\n",
              "      <th>Ano</th>\n",
              "      <th>Km</th>\n",
              "      <th>Local</th>\n",
              "      <th>Anunciante</th>\n",
              "      <th>Preço</th>\n",
              "    </tr>\n",
              "  </thead>\n",
              "  <tbody>\n",
              "    <tr>\n",
              "      <th>0</th>\n",
              "      <td>MERCEDES-BENZ GLE 350</td>\n",
              "      <td>3.0 V6 BLUETEC DIESEL SPORT 4MATIC 9G-TRONIC</td>\n",
              "      <td>Y</td>\n",
              "      <td>2017/2017</td>\n",
              "      <td>87940 km</td>\n",
              "      <td>Campinas - SP</td>\n",
              "      <td>Concessionária</td>\n",
              "      <td>R$ 299400</td>\n",
              "    </tr>\n",
              "    <tr>\n",
              "      <th>1</th>\n",
              "      <td>AUDI A1</td>\n",
              "      <td>1.4 TFSI SPORTBACK ATTRACTION 16V 122CV GASOLI...</td>\n",
              "      <td>Y</td>\n",
              "      <td>2016/2017</td>\n",
              "      <td>40524 km</td>\n",
              "      <td>Campinas - SP</td>\n",
              "      <td>Concessionária</td>\n",
              "      <td>R$ 96900</td>\n",
              "    </tr>\n",
              "    <tr>\n",
              "      <th>2</th>\n",
              "      <td>AUDI RS Q8</td>\n",
              "      <td>4.0 V8 GASOLINA TWINTURBO MHEV TIPTRONIC</td>\n",
              "      <td>Y</td>\n",
              "      <td>2021/2021</td>\n",
              "      <td>9925 km</td>\n",
              "      <td>Campinas - SP</td>\n",
              "      <td>Concessionária</td>\n",
              "      <td>R$ 1190000</td>\n",
              "    </tr>\n",
              "    <tr>\n",
              "      <th>3</th>\n",
              "      <td>BMW X4</td>\n",
              "      <td>3.0 TWINPOWER GASOLINA M40I STEPTRONIC</td>\n",
              "      <td>Y</td>\n",
              "      <td>2018/2019</td>\n",
              "      <td>20000 km</td>\n",
              "      <td>Fortaleza - CE</td>\n",
              "      <td>Loja</td>\n",
              "      <td>R$ 429900</td>\n",
              "    </tr>\n",
              "    <tr>\n",
              "      <th>4</th>\n",
              "      <td>LEXUS NX 300h</td>\n",
              "      <td>2.5 16V VVT-I HYBRID LUXURY CVT AWD</td>\n",
              "      <td>Y</td>\n",
              "      <td>2019/2020</td>\n",
              "      <td>4800 km</td>\n",
              "      <td>Fortaleza - CE</td>\n",
              "      <td>Loja</td>\n",
              "      <td>R$ 279900</td>\n",
              "    </tr>\n",
              "  </tbody>\n",
              "</table>\n",
              "</div>"
            ],
            "text/plain": [
              "               Automóvel  ...       Preço\n",
              "0  MERCEDES-BENZ GLE 350  ...   R$ 299400\n",
              "1                AUDI A1  ...    R$ 96900\n",
              "2             AUDI RS Q8  ...  R$ 1190000\n",
              "3                 BMW X4  ...   R$ 429900\n",
              "4          LEXUS NX 300h  ...   R$ 279900\n",
              "\n",
              "[5 rows x 8 columns]"
            ]
          },
          "metadata": {},
          "execution_count": 187
        }
      ]
    },
    {
      "cell_type": "markdown",
      "metadata": {
        "id": "G5u4vEZKCFBL"
      },
      "source": [
        "Após o contato inicial com o dataset, observa-se que a coluna 'Km' possui as letras *km* após os números e a coluna preço traz pontos para marcação de milhar, além da denotação da moeda Real.\n",
        "É necessário remover esses caracteres para que o Pandas consiga inferir corretamente o tipo de dados naquela coluna.\n",
        "Vamos criar duas funções *lambda* para essa tarefa e carregar o dataset completo."
      ]
    },
    {
      "cell_type": "code",
      "metadata": {
        "colab": {
          "base_uri": "https://localhost:8080/"
        },
        "id": "DzrCHj3Y5gft",
        "outputId": "bd85e51d-bb58-4631-ff7f-8955757e9d00"
      },
      "source": [
        "# Criando dois parsers para limpar as colunas Km e Preço\n",
        "parse_price = lambda x: x[3:]\n",
        "parse_km = lambda x: x[:-2]\n",
        "\n",
        "# Reimportando o dataset\n",
        "df = pd.read_csv('/content/webmotors.csv',\n",
        "                 encoding='ISO-8859-1',\n",
        "                 converters= {'Km': parse_km,\n",
        "                              'Preço': parse_price})\n",
        "df"
      ],
      "execution_count": null,
      "outputs": [
        {
          "output_type": "execute_result",
          "data": {
            "text/html": [
              "<div>\n",
              "<style scoped>\n",
              "    .dataframe tbody tr th:only-of-type {\n",
              "        vertical-align: middle;\n",
              "    }\n",
              "\n",
              "    .dataframe tbody tr th {\n",
              "        vertical-align: top;\n",
              "    }\n",
              "\n",
              "    .dataframe thead th {\n",
              "        text-align: right;\n",
              "    }\n",
              "</style>\n",
              "<table border=\"1\" class=\"dataframe\">\n",
              "  <thead>\n",
              "    <tr style=\"text-align: right;\">\n",
              "      <th></th>\n",
              "      <th>Automóvel</th>\n",
              "      <th>Descrição</th>\n",
              "      <th>Automático</th>\n",
              "      <th>Ano</th>\n",
              "      <th>Km</th>\n",
              "      <th>Local</th>\n",
              "      <th>Anunciante</th>\n",
              "      <th>Preço</th>\n",
              "    </tr>\n",
              "  </thead>\n",
              "  <tbody>\n",
              "    <tr>\n",
              "      <th>0</th>\n",
              "      <td>MERCEDES-BENZ GLE 350</td>\n",
              "      <td>3.0 V6 BLUETEC DIESEL SPORT 4MATIC 9G-TRONIC</td>\n",
              "      <td>Y</td>\n",
              "      <td>2017/2017</td>\n",
              "      <td>87940</td>\n",
              "      <td>Campinas - SP</td>\n",
              "      <td>Concessionária</td>\n",
              "      <td>299400</td>\n",
              "    </tr>\n",
              "    <tr>\n",
              "      <th>1</th>\n",
              "      <td>AUDI A1</td>\n",
              "      <td>1.4 TFSI SPORTBACK ATTRACTION 16V 122CV GASOLI...</td>\n",
              "      <td>Y</td>\n",
              "      <td>2016/2017</td>\n",
              "      <td>40524</td>\n",
              "      <td>Campinas - SP</td>\n",
              "      <td>Concessionária</td>\n",
              "      <td>96900</td>\n",
              "    </tr>\n",
              "    <tr>\n",
              "      <th>2</th>\n",
              "      <td>AUDI RS Q8</td>\n",
              "      <td>4.0 V8 GASOLINA TWINTURBO MHEV TIPTRONIC</td>\n",
              "      <td>Y</td>\n",
              "      <td>2021/2021</td>\n",
              "      <td>9925</td>\n",
              "      <td>Campinas - SP</td>\n",
              "      <td>Concessionária</td>\n",
              "      <td>1190000</td>\n",
              "    </tr>\n",
              "    <tr>\n",
              "      <th>3</th>\n",
              "      <td>BMW X4</td>\n",
              "      <td>3.0 TWINPOWER GASOLINA M40I STEPTRONIC</td>\n",
              "      <td>Y</td>\n",
              "      <td>2018/2019</td>\n",
              "      <td>20000</td>\n",
              "      <td>Fortaleza - CE</td>\n",
              "      <td>Loja</td>\n",
              "      <td>429900</td>\n",
              "    </tr>\n",
              "    <tr>\n",
              "      <th>4</th>\n",
              "      <td>LEXUS NX 300h</td>\n",
              "      <td>2.5 16V VVT-I HYBRID LUXURY CVT AWD</td>\n",
              "      <td>Y</td>\n",
              "      <td>2019/2020</td>\n",
              "      <td>4800</td>\n",
              "      <td>Fortaleza - CE</td>\n",
              "      <td>Loja</td>\n",
              "      <td>279900</td>\n",
              "    </tr>\n",
              "    <tr>\n",
              "      <th>...</th>\n",
              "      <td>...</td>\n",
              "      <td>...</td>\n",
              "      <td>...</td>\n",
              "      <td>...</td>\n",
              "      <td>...</td>\n",
              "      <td>...</td>\n",
              "      <td>...</td>\n",
              "      <td>...</td>\n",
              "    </tr>\n",
              "    <tr>\n",
              "      <th>1347</th>\n",
              "      <td>CITROËN C4 CACTUS</td>\n",
              "      <td>1.6 VTI 120 FLEX FEEL EAT6</td>\n",
              "      <td>Y</td>\n",
              "      <td>2019/2020</td>\n",
              "      <td>44287</td>\n",
              "      <td>São Paulo - SP</td>\n",
              "      <td>Loja</td>\n",
              "      <td>78900</td>\n",
              "    </tr>\n",
              "    <tr>\n",
              "      <th>1348</th>\n",
              "      <td>JEEP RENEGADE</td>\n",
              "      <td>1.8 16V FLEX SPORT 4P AUTOMÁTICO</td>\n",
              "      <td>Y</td>\n",
              "      <td>2017/2018</td>\n",
              "      <td>34000</td>\n",
              "      <td>São Paulo - SP</td>\n",
              "      <td>Loja</td>\n",
              "      <td>80000</td>\n",
              "    </tr>\n",
              "    <tr>\n",
              "      <th>1349</th>\n",
              "      <td>VOLKSWAGEN T-CROSS</td>\n",
              "      <td>1.0 200 TSI TOTAL FLEX COMFORTLINE AUTOMÁTICO</td>\n",
              "      <td>Y</td>\n",
              "      <td>2019/2020</td>\n",
              "      <td>20500</td>\n",
              "      <td>São Paulo - SP</td>\n",
              "      <td>Concessionária</td>\n",
              "      <td>106900</td>\n",
              "    </tr>\n",
              "    <tr>\n",
              "      <th>1350</th>\n",
              "      <td>CHERY TIGGO 5x</td>\n",
              "      <td>1.5 VVT TURBO iFLEX TXS DCT</td>\n",
              "      <td>Y</td>\n",
              "      <td>2019/2020</td>\n",
              "      <td>19000</td>\n",
              "      <td>São Paulo - SP</td>\n",
              "      <td>Concessionária</td>\n",
              "      <td>106900</td>\n",
              "    </tr>\n",
              "    <tr>\n",
              "      <th>1351</th>\n",
              "      <td>PEUGEOT 2008</td>\n",
              "      <td>1.6 16V FLEX ALLURE 4P AUTOMÁTICO</td>\n",
              "      <td>Y</td>\n",
              "      <td>2018/2018</td>\n",
              "      <td>25000</td>\n",
              "      <td>São Paulo - SP</td>\n",
              "      <td>Loja</td>\n",
              "      <td>67890</td>\n",
              "    </tr>\n",
              "  </tbody>\n",
              "</table>\n",
              "<p>1352 rows × 8 columns</p>\n",
              "</div>"
            ],
            "text/plain": [
              "                  Automóvel  ...    Preço\n",
              "0     MERCEDES-BENZ GLE 350  ...   299400\n",
              "1                   AUDI A1  ...    96900\n",
              "2                AUDI RS Q8  ...  1190000\n",
              "3                    BMW X4  ...   429900\n",
              "4             LEXUS NX 300h  ...   279900\n",
              "...                     ...  ...      ...\n",
              "1347      CITROËN C4 CACTUS  ...    78900\n",
              "1348          JEEP RENEGADE  ...    80000\n",
              "1349     VOLKSWAGEN T-CROSS  ...   106900\n",
              "1350         CHERY TIGGO 5x  ...   106900\n",
              "1351           PEUGEOT 2008  ...    67890\n",
              "\n",
              "[1352 rows x 8 columns]"
            ]
          },
          "metadata": {},
          "execution_count": 188
        }
      ]
    },
    {
      "cell_type": "markdown",
      "metadata": {
        "id": "yI-jq0_fIkUJ"
      },
      "source": [
        "A fim de manter os dados originais intactos (caso precisemos retornar a eles ou comparar algo), vamos criar uma nova variável para nosso dataset."
      ]
    },
    {
      "cell_type": "code",
      "metadata": {
        "id": "MATC28ceIioJ"
      },
      "source": [
        "# Cria cópia do dataset\n",
        "carros = df.copy()"
      ],
      "execution_count": null,
      "outputs": []
    },
    {
      "cell_type": "markdown",
      "metadata": {
        "id": "uvT0-5yR7Wr-"
      },
      "source": [
        "## Formatando o Dataset"
      ]
    },
    {
      "cell_type": "markdown",
      "metadata": {
        "id": "3xDZ7RA6DZZJ"
      },
      "source": [
        "O objetivo de formatar os dados após a importação é para que tenhamos um conjunto homogêneo e que nos forneça o máximo de informações possíveis.\n",
        "É nessa etapa que vamos criar novas variáveis, remover aquelas que não nos interessa, renomeá-las para facilitar o código, limpar valores sem sentido e verificar a existência de dados faltantes."
      ]
    },
    {
      "cell_type": "code",
      "metadata": {
        "id": "6-jKDu2M7jV0"
      },
      "source": [
        "# Vou renomear as colunas para facilitar o código\n",
        "carros.columns = ['car', 'descricao', 'automatico', 'ano', 'km', 'local', 'anunciante', 'preco']"
      ],
      "execution_count": null,
      "outputs": []
    },
    {
      "cell_type": "markdown",
      "metadata": {
        "id": "gauzHTSiEQuX"
      },
      "source": [
        "Usando o str.split do Pandas, eu posso indicar um caracter que separa as informações, criando, deste modo, novas colunas. Veja na próxima célula como é a saída desse método e, em seguida, como ele pode ser usado para criar novas variáveis importantes."
      ]
    },
    {
      "cell_type": "code",
      "metadata": {
        "colab": {
          "base_uri": "https://localhost:8080/"
        },
        "id": "jlgPNJaW83nY",
        "outputId": "19282160-231e-48ff-ab43-95fdd5faa614"
      },
      "source": [
        "# Usando o str.split, eu posso indicar ao Pandas para separar a coluna por \" - \" \n",
        "carros.local.str.split(\" - \", expand = True).head(2)"
      ],
      "execution_count": null,
      "outputs": [
        {
          "output_type": "execute_result",
          "data": {
            "text/html": [
              "<div>\n",
              "<style scoped>\n",
              "    .dataframe tbody tr th:only-of-type {\n",
              "        vertical-align: middle;\n",
              "    }\n",
              "\n",
              "    .dataframe tbody tr th {\n",
              "        vertical-align: top;\n",
              "    }\n",
              "\n",
              "    .dataframe thead th {\n",
              "        text-align: right;\n",
              "    }\n",
              "</style>\n",
              "<table border=\"1\" class=\"dataframe\">\n",
              "  <thead>\n",
              "    <tr style=\"text-align: right;\">\n",
              "      <th></th>\n",
              "      <th>0</th>\n",
              "      <th>1</th>\n",
              "    </tr>\n",
              "  </thead>\n",
              "  <tbody>\n",
              "    <tr>\n",
              "      <th>0</th>\n",
              "      <td>Campinas</td>\n",
              "      <td>SP</td>\n",
              "    </tr>\n",
              "    <tr>\n",
              "      <th>1</th>\n",
              "      <td>Campinas</td>\n",
              "      <td>SP</td>\n",
              "    </tr>\n",
              "  </tbody>\n",
              "</table>\n",
              "</div>"
            ],
            "text/plain": [
              "          0   1\n",
              "0  Campinas  SP\n",
              "1  Campinas  SP"
            ]
          },
          "metadata": {},
          "execution_count": 191
        }
      ]
    },
    {
      "cell_type": "code",
      "metadata": {
        "id": "SZDAioMv6glQ"
      },
      "source": [
        "# Criar colunas de Estado, Cidade, Fabricante, ano de fabrica e ano de modelo \n",
        "carros['cidade'] = carros.local.str.split(\" - \", expand = True)[0]\n",
        "carros['estado'] = carros.local.str.split(\" - \", expand = True)[1]\n",
        "carros['fabricante'] = carros.car.str.split(\" \", expand = True)[0]\n",
        "carros['ano_fabrica'] = carros.ano.str.split(\"/\", expand = True)[0]\n",
        "carros['ano_modelo'] = carros.ano.str.split(\"/\", expand = True)[1]\n",
        "# Remove coluna \"Local\" e coluna \"Ano\"\n",
        "carros.drop(['ano','local'], axis=1, inplace=True)"
      ],
      "execution_count": null,
      "outputs": []
    },
    {
      "cell_type": "markdown",
      "metadata": {
        "id": "bxibq_sNhLz9"
      },
      "source": [
        "Logo que criamos novas variáveis, é necessário verificar se os valores fazem sentido. Uma boa opção é imprimir os valores únicos, a fim de procurar por valores que não fazem sentido. \n",
        "\n",
        "Veja que, para fabricante, precisamos alterar RAM para Dodge e LAND para Land Rover, bem como remover o acento de Citroen."
      ]
    },
    {
      "cell_type": "code",
      "metadata": {
        "colab": {
          "base_uri": "https://localhost:8080/"
        },
        "id": "vVgxCz2-9mrI",
        "outputId": "277e1ea6-4596-4e18-ac85-5aad1a26bf74"
      },
      "source": [
        "# Verificando se os valores fazem sentido\n",
        "carros.fabricante.unique()"
      ],
      "execution_count": null,
      "outputs": [
        {
          "output_type": "execute_result",
          "data": {
            "text/plain": [
              "array(['MERCEDES-BENZ', 'AUDI', 'BMW', 'LEXUS', 'LAND', 'PORSCHE', 'JEEP',\n",
              "       'VOLVO', 'JAGUAR', 'HYUNDAI', 'VOLKSWAGEN', 'KIA', 'MITSUBISHI',\n",
              "       'RENAULT', 'FORD', 'CHEVROLET', 'NISSAN', 'PEUGEOT', 'HONDA',\n",
              "       'FIAT', 'CITROËN', 'TOYOTA', 'CHERY', 'SUZUKI', 'DODGE', 'RAM',\n",
              "       'MINI', 'JAC', 'LIFAN'], dtype=object)"
            ]
          },
          "metadata": {},
          "execution_count": 193
        }
      ]
    },
    {
      "cell_type": "code",
      "metadata": {
        "colab": {
          "base_uri": "https://localhost:8080/"
        },
        "id": "_M3gi5BKhVK4",
        "outputId": "94f9e3bc-7e56-406b-e9b2-cbc63be65bc8"
      },
      "source": [
        "# Transformação\n",
        "carros.fabricante.replace({'LAND':'LAND ROVER', 'RAM': 'DODGE', 'CITROËN': 'CITROEN'}, inplace=True)\n",
        "carros.fabricante.unique()"
      ],
      "execution_count": null,
      "outputs": [
        {
          "output_type": "execute_result",
          "data": {
            "text/plain": [
              "array(['MERCEDES-BENZ', 'AUDI', 'BMW', 'LEXUS', 'LAND ROVER', 'PORSCHE',\n",
              "       'JEEP', 'VOLVO', 'JAGUAR', 'HYUNDAI', 'VOLKSWAGEN', 'KIA',\n",
              "       'MITSUBISHI', 'RENAULT', 'FORD', 'CHEVROLET', 'NISSAN', 'PEUGEOT',\n",
              "       'HONDA', 'FIAT', 'CITROEN', 'TOYOTA', 'CHERY', 'SUZUKI', 'DODGE',\n",
              "       'MINI', 'JAC', 'LIFAN'], dtype=object)"
            ]
          },
          "metadata": {},
          "execution_count": 194
        }
      ]
    },
    {
      "cell_type": "code",
      "metadata": {
        "colab": {
          "base_uri": "https://localhost:8080/"
        },
        "id": "23nG6Sbmh3Ga",
        "outputId": "e567c2ef-7593-4863-d3c7-eedb6cf4449b"
      },
      "source": [
        "# Outras verificações\n",
        "carros.cidade.unique()\n",
        "carros.estado.unique()"
      ],
      "execution_count": null,
      "outputs": [
        {
          "output_type": "execute_result",
          "data": {
            "text/plain": [
              "array(['SP', 'CE', 'SC', 'MG', 'PR', 'DF', 'RJ', 'RS', 'GO', 'ES', 'BA',\n",
              "       'PB', 'PE', 'MS', 'AM', 'MA', 'PA', 'PI', 'MT', 'RN', 'RO', 'AL',\n",
              "       'TO'], dtype=object)"
            ]
          },
          "metadata": {},
          "execution_count": 195
        }
      ]
    },
    {
      "cell_type": "markdown",
      "metadata": {
        "id": "dga7_qqkcRmX"
      },
      "source": [
        "A fim de simplificar o modelo, vamos transformar a coluna de estado em Macro-Regiões"
      ]
    },
    {
      "cell_type": "code",
      "metadata": {
        "id": "HYt6Vt6icQtb"
      },
      "source": [
        "# Mapear macro regiões\n",
        "carros['regiao'] = carros.estado.map({'SP': 'Sudeste', 'ES': 'Sudeste', 'MG': 'Sudeste', 'RJ': 'Sudeste',\n",
        "                                      'CE': 'Nordeste', 'BA':'Nordeste', 'MA':'Nordeste', 'PI':'Nordeste','AL':'Nordeste', 'PB':'Nordeste', 'PE':'Nordeste','RN':'Nordeste',\n",
        "                                      'SC':'Sul', 'PR': 'Sul', 'RS': 'Sul', \n",
        "                                      'GO': 'Centro-Oeste','DF':'Centro-Oeste','MS': 'Centro-Oeste','MT': 'Centro-Oeste',\n",
        "                                      'AM': 'Norte', 'PA': 'Norte','RO':'Norte','TO':'Norte'})"
      ],
      "execution_count": null,
      "outputs": []
    },
    {
      "cell_type": "markdown",
      "metadata": {
        "id": "2vT1JxqiFaJT"
      },
      "source": [
        "Constantemente imprimimos poucas linhas dos nossos dados para que tenhamos certeza de que as transformações estão ocorrendo da maneira esperada. A prática, entretanto, não é necessária. Apenas uma prática de minha preferência.\n",
        "\n",
        "Notebooks são ótimas ferramentas para compartilharmos nossa na análise com outros Cientistas de Dados, mas certamente que essas células de visualização podem ser removidas caso precise."
      ]
    },
    {
      "cell_type": "code",
      "metadata": {
        "colab": {
          "base_uri": "https://localhost:8080/"
        },
        "id": "1TjLd6bj87Jm",
        "outputId": "49e8bf57-8096-4e53-9ca1-94fd35f8ab87"
      },
      "source": [
        "# Visualizar a transformação\n",
        "carros.head(1)"
      ],
      "execution_count": null,
      "outputs": [
        {
          "output_type": "execute_result",
          "data": {
            "text/html": [
              "<div>\n",
              "<style scoped>\n",
              "    .dataframe tbody tr th:only-of-type {\n",
              "        vertical-align: middle;\n",
              "    }\n",
              "\n",
              "    .dataframe tbody tr th {\n",
              "        vertical-align: top;\n",
              "    }\n",
              "\n",
              "    .dataframe thead th {\n",
              "        text-align: right;\n",
              "    }\n",
              "</style>\n",
              "<table border=\"1\" class=\"dataframe\">\n",
              "  <thead>\n",
              "    <tr style=\"text-align: right;\">\n",
              "      <th></th>\n",
              "      <th>car</th>\n",
              "      <th>descricao</th>\n",
              "      <th>automatico</th>\n",
              "      <th>km</th>\n",
              "      <th>anunciante</th>\n",
              "      <th>preco</th>\n",
              "      <th>cidade</th>\n",
              "      <th>estado</th>\n",
              "      <th>fabricante</th>\n",
              "      <th>ano_fabrica</th>\n",
              "      <th>ano_modelo</th>\n",
              "      <th>regiao</th>\n",
              "    </tr>\n",
              "  </thead>\n",
              "  <tbody>\n",
              "    <tr>\n",
              "      <th>0</th>\n",
              "      <td>MERCEDES-BENZ GLE 350</td>\n",
              "      <td>3.0 V6 BLUETEC DIESEL SPORT 4MATIC 9G-TRONIC</td>\n",
              "      <td>Y</td>\n",
              "      <td>87940</td>\n",
              "      <td>Concessionária</td>\n",
              "      <td>299400</td>\n",
              "      <td>Campinas</td>\n",
              "      <td>SP</td>\n",
              "      <td>MERCEDES-BENZ</td>\n",
              "      <td>2017</td>\n",
              "      <td>2017</td>\n",
              "      <td>Sudeste</td>\n",
              "    </tr>\n",
              "  </tbody>\n",
              "</table>\n",
              "</div>"
            ],
            "text/plain": [
              "                     car  ...   regiao\n",
              "0  MERCEDES-BENZ GLE 350  ...  Sudeste\n",
              "\n",
              "[1 rows x 12 columns]"
            ]
          },
          "metadata": {},
          "execution_count": 197
        }
      ]
    },
    {
      "cell_type": "markdown",
      "metadata": {
        "id": "gGReHjIbGW0R"
      },
      "source": [
        "Em seguida, criamos uma função para extrair apenas as palavras relativas ao tipo de combustível do automóvel e colocamos em uma coluna. Depois, repetimos a verificação de valores únicos e alteramos o necessário."
      ]
    },
    {
      "cell_type": "code",
      "metadata": {
        "colab": {
          "base_uri": "https://localhost:8080/"
        },
        "id": "clZ-pABkgVzk",
        "outputId": "371bb572-2fc4-4662-ebb3-a9e799453441"
      },
      "source": [
        "# Usando expressão regular e uma função, vamos extrair o tipo de combustível da descrição\n",
        "def combustivel(text):\n",
        "  if len( re.findall(r'\\bDIESEL|GASOLINA|FLEX|FLEXSTART|HYBRID|HÍBRIDO|ELÉTRICO\\b', text) ) == 0:\n",
        "    return np.nan\n",
        "  else:\n",
        "    return re.findall(r'\\bDIESEL|GASOLINA|FLEX|FLEXSTART|HYBRID|HÍBRIDO|ELÉTRICO\\b', text)[0]\n",
        "\n",
        "# Aplicando a funçao\n",
        "carros['combustivel'] = carros.descricao.apply( combustivel )\n",
        "\n",
        "# Verificando valores únicos\n",
        "carros.combustivel.unique()"
      ],
      "execution_count": null,
      "outputs": [
        {
          "output_type": "execute_result",
          "data": {
            "text/plain": [
              "array(['DIESEL', 'GASOLINA', 'HYBRID', 'HÍBRIDO', 'FLEX', 'ELÉTRICO'],\n",
              "      dtype=object)"
            ]
          },
          "metadata": {},
          "execution_count": 198
        }
      ]
    },
    {
      "cell_type": "code",
      "metadata": {
        "colab": {
          "base_uri": "https://localhost:8080/"
        },
        "id": "FbtUfSQFBVRQ",
        "outputId": "31668663-6140-4ef1-f898-164c1117dd0c"
      },
      "source": [
        "# Vamos substituir 'HYBRID' por 'HÍBRIDO' para padronizar\n",
        "carros.combustivel.replace({'HYBRID':'HÍBRIDO'}, inplace=True)\n",
        "carros.combustivel.unique()"
      ],
      "execution_count": null,
      "outputs": [
        {
          "output_type": "execute_result",
          "data": {
            "text/plain": [
              "array(['DIESEL', 'GASOLINA', 'HÍBRIDO', 'FLEX', 'ELÉTRICO'], dtype=object)"
            ]
          },
          "metadata": {},
          "execution_count": 199
        }
      ]
    },
    {
      "cell_type": "code",
      "metadata": {
        "colab": {
          "base_uri": "https://localhost:8080/"
        },
        "id": "gkY__lmrpjJD",
        "outputId": "7d230224-e764-4d8e-b8bd-e293682552a0"
      },
      "source": [
        "# Criando nova coluna para Potência do Motor\n",
        "carros['motor'] = carros.descricao.str.split(\" \", expand = True)[0]\n",
        "carros['motor'].unique()"
      ],
      "execution_count": null,
      "outputs": [
        {
          "output_type": "execute_result",
          "data": {
            "text/plain": [
              "array(['3.0', '1.4', '4.0', '2.5', '1.3', '2.0', '1.6', '2.2', '1.8',\n",
              "       '2.9', '3.3', '3.6', '3.8', '4.4', '1.5', '1.0', '1.2', 'ELÉTRICO',\n",
              "       '90', '2.8', '2.7', '6.7', '3.2', '2.4', '2.3', '5.0', '3.5'],\n",
              "      dtype=object)"
            ]
          },
          "metadata": {},
          "execution_count": 200
        }
      ]
    },
    {
      "cell_type": "code",
      "metadata": {
        "colab": {
          "base_uri": "https://localhost:8080/"
        },
        "id": "3WEw3HihwQ48",
        "outputId": "53d9bbcb-0e57-46d3-9a8d-35ddfbffb828"
      },
      "source": [
        "# Verificando as observações problemáticas\n",
        "carros.query('motor == \"90\" | motor == \"ELÉTRICO\"')"
      ],
      "execution_count": null,
      "outputs": [
        {
          "output_type": "execute_result",
          "data": {
            "text/html": [
              "<div>\n",
              "<style scoped>\n",
              "    .dataframe tbody tr th:only-of-type {\n",
              "        vertical-align: middle;\n",
              "    }\n",
              "\n",
              "    .dataframe tbody tr th {\n",
              "        vertical-align: top;\n",
              "    }\n",
              "\n",
              "    .dataframe thead th {\n",
              "        text-align: right;\n",
              "    }\n",
              "</style>\n",
              "<table border=\"1\" class=\"dataframe\">\n",
              "  <thead>\n",
              "    <tr style=\"text-align: right;\">\n",
              "      <th></th>\n",
              "      <th>car</th>\n",
              "      <th>descricao</th>\n",
              "      <th>automatico</th>\n",
              "      <th>km</th>\n",
              "      <th>anunciante</th>\n",
              "      <th>preco</th>\n",
              "      <th>cidade</th>\n",
              "      <th>estado</th>\n",
              "      <th>fabricante</th>\n",
              "      <th>ano_fabrica</th>\n",
              "      <th>ano_modelo</th>\n",
              "      <th>regiao</th>\n",
              "      <th>combustivel</th>\n",
              "      <th>motor</th>\n",
              "    </tr>\n",
              "  </thead>\n",
              "  <tbody>\n",
              "    <tr>\n",
              "      <th>343</th>\n",
              "      <td>AUDI E-TRON</td>\n",
              "      <td>ELÉTRICO SPORTBACK PERFORMANCE BLACK QUATTRO</td>\n",
              "      <td>Y</td>\n",
              "      <td>0</td>\n",
              "      <td>Concessionária</td>\n",
              "      <td>647590</td>\n",
              "      <td>Londrina</td>\n",
              "      <td>PR</td>\n",
              "      <td>AUDI</td>\n",
              "      <td>2021</td>\n",
              "      <td>2021</td>\n",
              "      <td>Sul</td>\n",
              "      <td>ELÉTRICO</td>\n",
              "      <td>ELÉTRICO</td>\n",
              "    </tr>\n",
              "    <tr>\n",
              "      <th>362</th>\n",
              "      <td>JAGUAR I-PACE</td>\n",
              "      <td>90 KW EV400 SE AWD ELÉTRICO</td>\n",
              "      <td>Y</td>\n",
              "      <td>0</td>\n",
              "      <td>Concessionária</td>\n",
              "      <td>651950</td>\n",
              "      <td>Campinas</td>\n",
              "      <td>SP</td>\n",
              "      <td>JAGUAR</td>\n",
              "      <td>2021</td>\n",
              "      <td>2021</td>\n",
              "      <td>Sudeste</td>\n",
              "      <td>ELÉTRICO</td>\n",
              "      <td>90</td>\n",
              "    </tr>\n",
              "    <tr>\n",
              "      <th>530</th>\n",
              "      <td>AUDI E-TRON</td>\n",
              "      <td>ELÉTRICO SPORTBACK PERFORMANCE BLACK QUATTRO</td>\n",
              "      <td>Y</td>\n",
              "      <td>0</td>\n",
              "      <td>Concessionária</td>\n",
              "      <td>693690</td>\n",
              "      <td>Campinas</td>\n",
              "      <td>SP</td>\n",
              "      <td>AUDI</td>\n",
              "      <td>2021</td>\n",
              "      <td>2021</td>\n",
              "      <td>Sudeste</td>\n",
              "      <td>ELÉTRICO</td>\n",
              "      <td>ELÉTRICO</td>\n",
              "    </tr>\n",
              "    <tr>\n",
              "      <th>865</th>\n",
              "      <td>JAC IEV40</td>\n",
              "      <td>ELÉTRICO AUTOMÁTICO</td>\n",
              "      <td>Y</td>\n",
              "      <td>15000</td>\n",
              "      <td>Pessoa Física</td>\n",
              "      <td>165000</td>\n",
              "      <td>Florianópolis</td>\n",
              "      <td>SC</td>\n",
              "      <td>JAC</td>\n",
              "      <td>2019</td>\n",
              "      <td>2020</td>\n",
              "      <td>Sul</td>\n",
              "      <td>ELÉTRICO</td>\n",
              "      <td>ELÉTRICO</td>\n",
              "    </tr>\n",
              "    <tr>\n",
              "      <th>906</th>\n",
              "      <td>AUDI E-TRON</td>\n",
              "      <td>ELÉTRICO PERFORMANCE BLACK QUATTRO</td>\n",
              "      <td>Y</td>\n",
              "      <td>3700</td>\n",
              "      <td>Pessoa Física</td>\n",
              "      <td>559000</td>\n",
              "      <td>Itapema</td>\n",
              "      <td>SC</td>\n",
              "      <td>AUDI</td>\n",
              "      <td>2020</td>\n",
              "      <td>2020</td>\n",
              "      <td>Sul</td>\n",
              "      <td>ELÉTRICO</td>\n",
              "      <td>ELÉTRICO</td>\n",
              "    </tr>\n",
              "  </tbody>\n",
              "</table>\n",
              "</div>"
            ],
            "text/plain": [
              "               car  ...     motor\n",
              "343    AUDI E-TRON  ...  ELÉTRICO\n",
              "362  JAGUAR I-PACE  ...        90\n",
              "530    AUDI E-TRON  ...  ELÉTRICO\n",
              "865      JAC IEV40  ...  ELÉTRICO\n",
              "906    AUDI E-TRON  ...  ELÉTRICO\n",
              "\n",
              "[5 rows x 14 columns]"
            ]
          },
          "metadata": {},
          "execution_count": 201
        }
      ]
    },
    {
      "cell_type": "markdown",
      "metadata": {
        "id": "mLm9gtR3zEDM"
      },
      "source": [
        "Iremos descartar essas 6 observações acima por esses motivos:\n",
        "* São carros elétricos, logo não sabemos como atribuir um valor para o motor que seja compatível com os outros carros.\n",
        "* São carros 0km, mas nosso foco é maior em carros usados.\n",
        "* É uma decisão do Cientista de Dados, visto que são poucos dados que trariam mais complicação do que benefício."
      ]
    },
    {
      "cell_type": "code",
      "metadata": {
        "id": "NAE8R7cWzPH_"
      },
      "source": [
        "# Removendo linhas pelo número do índice\n",
        "carros.drop([343, 362, 530, 865, 906], axis=0, inplace=True)"
      ],
      "execution_count": null,
      "outputs": []
    },
    {
      "cell_type": "code",
      "metadata": {
        "id": "nkGSyUZsJ9tK"
      },
      "source": [
        "# Remover a coluna descrição\n",
        "carros.drop('descricao', axis=1, inplace=True)"
      ],
      "execution_count": null,
      "outputs": []
    },
    {
      "cell_type": "code",
      "metadata": {
        "id": "Esg3Pzjd_SKD"
      },
      "source": [
        "# Mapear variável 'automatico' para 0 e 1\n",
        "carros['automatico'] = carros.automatico.map({'Y':1, 'N':0})"
      ],
      "execution_count": null,
      "outputs": []
    },
    {
      "cell_type": "code",
      "metadata": {
        "colab": {
          "base_uri": "https://localhost:8080/"
        },
        "id": "WeStz-aa7Qtz",
        "outputId": "543e3f18-91a2-43b5-9350-21a8c2b148f3"
      },
      "source": [
        "# Verificando a existência de dados NA\n",
        "carros.isnull().sum()"
      ],
      "execution_count": null,
      "outputs": [
        {
          "output_type": "execute_result",
          "data": {
            "text/plain": [
              "car            0\n",
              "automatico     0\n",
              "km             0\n",
              "anunciante     0\n",
              "preco          0\n",
              "cidade         0\n",
              "estado         0\n",
              "fabricante     0\n",
              "ano_fabrica    0\n",
              "ano_modelo     0\n",
              "regiao         0\n",
              "combustivel    0\n",
              "motor          0\n",
              "dtype: int64"
            ]
          },
          "metadata": {},
          "execution_count": 205
        }
      ]
    },
    {
      "cell_type": "code",
      "metadata": {
        "colab": {
          "base_uri": "https://localhost:8080/"
        },
        "id": "cXFoGAn20wmS",
        "outputId": "3f3d28e9-a6fd-4735-c260-88f5c44a764b"
      },
      "source": [
        "# Shape do dataset limpo \n",
        "carros.shape"
      ],
      "execution_count": null,
      "outputs": [
        {
          "output_type": "execute_result",
          "data": {
            "text/plain": [
              "(1347, 13)"
            ]
          },
          "metadata": {},
          "execution_count": 206
        }
      ]
    },
    {
      "cell_type": "code",
      "metadata": {
        "id": "q4wFQwuJKOyI"
      },
      "source": [
        "# Reordenando colunas\n",
        "ordem = ['car', 'fabricante', 'motor', 'combustivel', 'automatico', 'ano_fabrica', 'ano_modelo', 'km', 'anunciante', 'cidade', 'estado','regiao','preco']\n",
        "\n",
        "carros = carros.reindex(columns= ordem)"
      ],
      "execution_count": null,
      "outputs": []
    },
    {
      "cell_type": "code",
      "metadata": {
        "colab": {
          "base_uri": "https://localhost:8080/"
        },
        "id": "y7e8SJ6jLoEj",
        "outputId": "5dc75f55-5cc1-4ae4-be05-e7357c3ed16f"
      },
      "source": [
        "# Verificando os tipos de variáveis\n",
        "carros.info()"
      ],
      "execution_count": null,
      "outputs": [
        {
          "output_type": "stream",
          "text": [
            "<class 'pandas.core.frame.DataFrame'>\n",
            "Int64Index: 1347 entries, 0 to 1351\n",
            "Data columns (total 13 columns):\n",
            " #   Column       Non-Null Count  Dtype \n",
            "---  ------       --------------  ----- \n",
            " 0   car          1347 non-null   object\n",
            " 1   fabricante   1347 non-null   object\n",
            " 2   motor        1347 non-null   object\n",
            " 3   combustivel  1347 non-null   object\n",
            " 4   automatico   1347 non-null   int64 \n",
            " 5   ano_fabrica  1347 non-null   object\n",
            " 6   ano_modelo   1347 non-null   object\n",
            " 7   km           1347 non-null   object\n",
            " 8   anunciante   1347 non-null   object\n",
            " 9   cidade       1347 non-null   object\n",
            " 10  estado       1347 non-null   object\n",
            " 11  regiao       1347 non-null   object\n",
            " 12  preco        1347 non-null   object\n",
            "dtypes: int64(1), object(12)\n",
            "memory usage: 147.3+ KB\n"
          ],
          "name": "stdout"
        }
      ]
    },
    {
      "cell_type": "markdown",
      "metadata": {
        "id": "J1Ca8HHYLqsX"
      },
      "source": [
        "Vamos ver se as variáveis tem os tipos de dados corretos e alterar onde for necessário.\n",
        " *   *car*         : Não altera.\n",
        " *   *fabricante*  : Não altera.\n",
        " *   *motor*       : Altera para: **float**\n",
        " *   *combustivel* : Altera para: **Categórico**\n",
        " *   *automatico*  : Altera para: **integer**\n",
        " *   *ano_fabrica* : Altera para: **integer**\n",
        " *   *ano_modelo*  : Altera para: **integer**\n",
        " *   *km*          : Altera para: **integer**\n",
        " *   *anunciante*  : Não altera.\n",
        " *   *cidade*      : Não altera.\n",
        " *  *estado*       : Não altera.\n",
        "*   *regiao* : Altera para: **Categórico**\n",
        " *  *preco*        : Altera para: **float**"
      ]
    },
    {
      "cell_type": "code",
      "metadata": {
        "colab": {
          "base_uri": "https://localhost:8080/"
        },
        "id": "DMH0XTbvLoO4",
        "outputId": "f00586ea-c873-4193-ca7e-bee47f9d90e8"
      },
      "source": [
        "# Cria dicionário com o nome da coluna e o tipo de dado\n",
        "data_types = {'motor':'float',\n",
        "              'combustivel':'category',\n",
        "              'automatico':'int',\n",
        "              'ano_fabrica':'int',\n",
        "              'ano_modelo':'int',\n",
        "              'km':'int',\n",
        "              'regiao': 'category',\n",
        "              'preco':'float'}\n",
        "\n",
        "\n",
        "carros = carros.astype(data_types)\n",
        "carros.dtypes"
      ],
      "execution_count": null,
      "outputs": [
        {
          "output_type": "execute_result",
          "data": {
            "text/plain": [
              "car              object\n",
              "fabricante       object\n",
              "motor           float64\n",
              "combustivel    category\n",
              "automatico        int64\n",
              "ano_fabrica       int64\n",
              "ano_modelo        int64\n",
              "km                int64\n",
              "anunciante       object\n",
              "cidade           object\n",
              "estado           object\n",
              "regiao         category\n",
              "preco           float64\n",
              "dtype: object"
            ]
          },
          "metadata": {},
          "execution_count": 209
        }
      ]
    },
    {
      "cell_type": "code",
      "metadata": {
        "colab": {
          "base_uri": "https://localhost:8080/"
        },
        "id": "Bq3MSDXWumpB",
        "outputId": "68844227-92ea-4ea0-eb29-b2e9b647d4a2"
      },
      "source": [
        "carros.head(1)"
      ],
      "execution_count": null,
      "outputs": [
        {
          "output_type": "execute_result",
          "data": {
            "text/html": [
              "<div>\n",
              "<style scoped>\n",
              "    .dataframe tbody tr th:only-of-type {\n",
              "        vertical-align: middle;\n",
              "    }\n",
              "\n",
              "    .dataframe tbody tr th {\n",
              "        vertical-align: top;\n",
              "    }\n",
              "\n",
              "    .dataframe thead th {\n",
              "        text-align: right;\n",
              "    }\n",
              "</style>\n",
              "<table border=\"1\" class=\"dataframe\">\n",
              "  <thead>\n",
              "    <tr style=\"text-align: right;\">\n",
              "      <th></th>\n",
              "      <th>car</th>\n",
              "      <th>fabricante</th>\n",
              "      <th>motor</th>\n",
              "      <th>combustivel</th>\n",
              "      <th>automatico</th>\n",
              "      <th>ano_fabrica</th>\n",
              "      <th>ano_modelo</th>\n",
              "      <th>km</th>\n",
              "      <th>anunciante</th>\n",
              "      <th>cidade</th>\n",
              "      <th>estado</th>\n",
              "      <th>regiao</th>\n",
              "      <th>preco</th>\n",
              "    </tr>\n",
              "  </thead>\n",
              "  <tbody>\n",
              "    <tr>\n",
              "      <th>0</th>\n",
              "      <td>MERCEDES-BENZ GLE 350</td>\n",
              "      <td>MERCEDES-BENZ</td>\n",
              "      <td>3.0</td>\n",
              "      <td>DIESEL</td>\n",
              "      <td>1</td>\n",
              "      <td>2017</td>\n",
              "      <td>2017</td>\n",
              "      <td>87940</td>\n",
              "      <td>Concessionária</td>\n",
              "      <td>Campinas</td>\n",
              "      <td>SP</td>\n",
              "      <td>Sudeste</td>\n",
              "      <td>299400.0</td>\n",
              "    </tr>\n",
              "  </tbody>\n",
              "</table>\n",
              "</div>"
            ],
            "text/plain": [
              "                     car     fabricante  motor  ... estado   regiao     preco\n",
              "0  MERCEDES-BENZ GLE 350  MERCEDES-BENZ    3.0  ...     SP  Sudeste  299400.0\n",
              "\n",
              "[1 rows x 13 columns]"
            ]
          },
          "metadata": {},
          "execution_count": 210
        }
      ]
    },
    {
      "cell_type": "code",
      "metadata": {
        "id": "BfHNZXm5LoSC"
      },
      "source": [
        "# Reset do índice\n",
        "carros.reset_index(drop=True, inplace=True)"
      ],
      "execution_count": null,
      "outputs": []
    },
    {
      "cell_type": "code",
      "metadata": {
        "id": "2hHyR0u6aVBZ"
      },
      "source": [
        "# Salva dataset formatado\n",
        "carros.to_csv('carros.csv', encoding='ISO 8859-1')"
      ],
      "execution_count": null,
      "outputs": []
    },
    {
      "cell_type": "markdown",
      "metadata": {
        "id": "kMnOv_k7HN7Q"
      },
      "source": [
        "## Análise Exploratória e Visualizações"
      ]
    },
    {
      "cell_type": "markdown",
      "metadata": {
        "id": "QQUZ_ncYHZEt"
      },
      "source": [
        "Nesta etapa, devemos explorar os dados de modo a extrair os primeiros insights, procurar por boas correlações, analisar se há alguma inconsistência e abrir caminho para a escolha das melhores variáveis para o nosso modelo de regressão linear.\n",
        "\n",
        "Os primeiros passos, para mim, são sempre a verificação estatística descritiva e os histogramas. Com tais pontos, teremos uma noção de como o conjunto de dados está distribuído."
      ]
    },
    {
      "cell_type": "markdown",
      "metadata": {
        "id": "-jFHO8vWIA5J"
      },
      "source": [
        "### Estatística Descritiva"
      ]
    },
    {
      "cell_type": "code",
      "metadata": {
        "id": "ScGpLOT16fjm",
        "colab": {
          "base_uri": "https://localhost:8080/"
        },
        "outputId": "969a3804-cce4-4f7f-b17b-c0944fd0a69c"
      },
      "source": [
        "# Describe traz todas os indicadores estatísticos descritivos para valores numéricos\n",
        "carros.describe().round(2)"
      ],
      "execution_count": null,
      "outputs": [
        {
          "output_type": "execute_result",
          "data": {
            "text/html": [
              "<div>\n",
              "<style scoped>\n",
              "    .dataframe tbody tr th:only-of-type {\n",
              "        vertical-align: middle;\n",
              "    }\n",
              "\n",
              "    .dataframe tbody tr th {\n",
              "        vertical-align: top;\n",
              "    }\n",
              "\n",
              "    .dataframe thead th {\n",
              "        text-align: right;\n",
              "    }\n",
              "</style>\n",
              "<table border=\"1\" class=\"dataframe\">\n",
              "  <thead>\n",
              "    <tr style=\"text-align: right;\">\n",
              "      <th></th>\n",
              "      <th>motor</th>\n",
              "      <th>automatico</th>\n",
              "      <th>ano_fabrica</th>\n",
              "      <th>ano_modelo</th>\n",
              "      <th>km</th>\n",
              "      <th>preco</th>\n",
              "    </tr>\n",
              "  </thead>\n",
              "  <tbody>\n",
              "    <tr>\n",
              "      <th>count</th>\n",
              "      <td>1347.00</td>\n",
              "      <td>1347.00</td>\n",
              "      <td>1347.00</td>\n",
              "      <td>1347.0</td>\n",
              "      <td>1347.00</td>\n",
              "      <td>1347.0</td>\n",
              "    </tr>\n",
              "    <tr>\n",
              "      <th>mean</th>\n",
              "      <td>1.67</td>\n",
              "      <td>0.65</td>\n",
              "      <td>2017.98</td>\n",
              "      <td>2018.6</td>\n",
              "      <td>43661.53</td>\n",
              "      <td>125088.9</td>\n",
              "    </tr>\n",
              "    <tr>\n",
              "      <th>std</th>\n",
              "      <td>0.79</td>\n",
              "      <td>0.48</td>\n",
              "      <td>2.38</td>\n",
              "      <td>2.4</td>\n",
              "      <td>50831.59</td>\n",
              "      <td>129611.9</td>\n",
              "    </tr>\n",
              "    <tr>\n",
              "      <th>min</th>\n",
              "      <td>1.00</td>\n",
              "      <td>0.00</td>\n",
              "      <td>2008.00</td>\n",
              "      <td>2008.0</td>\n",
              "      <td>0.00</td>\n",
              "      <td>17500.0</td>\n",
              "    </tr>\n",
              "    <tr>\n",
              "      <th>25%</th>\n",
              "      <td>1.00</td>\n",
              "      <td>0.00</td>\n",
              "      <td>2017.00</td>\n",
              "      <td>2018.0</td>\n",
              "      <td>15000.00</td>\n",
              "      <td>52900.0</td>\n",
              "    </tr>\n",
              "    <tr>\n",
              "      <th>50%</th>\n",
              "      <td>1.60</td>\n",
              "      <td>1.00</td>\n",
              "      <td>2019.00</td>\n",
              "      <td>2019.0</td>\n",
              "      <td>36300.00</td>\n",
              "      <td>82490.0</td>\n",
              "    </tr>\n",
              "    <tr>\n",
              "      <th>75%</th>\n",
              "      <td>2.00</td>\n",
              "      <td>1.00</td>\n",
              "      <td>2019.00</td>\n",
              "      <td>2020.0</td>\n",
              "      <td>60850.00</td>\n",
              "      <td>138400.0</td>\n",
              "    </tr>\n",
              "    <tr>\n",
              "      <th>max</th>\n",
              "      <td>6.70</td>\n",
              "      <td>1.00</td>\n",
              "      <td>2022.00</td>\n",
              "      <td>2022.0</td>\n",
              "      <td>999999.00</td>\n",
              "      <td>1350000.0</td>\n",
              "    </tr>\n",
              "  </tbody>\n",
              "</table>\n",
              "</div>"
            ],
            "text/plain": [
              "         motor  automatico  ano_fabrica  ano_modelo         km      preco\n",
              "count  1347.00     1347.00      1347.00      1347.0    1347.00     1347.0\n",
              "mean      1.67        0.65      2017.98      2018.6   43661.53   125088.9\n",
              "std       0.79        0.48         2.38         2.4   50831.59   129611.9\n",
              "min       1.00        0.00      2008.00      2008.0       0.00    17500.0\n",
              "25%       1.00        0.00      2017.00      2018.0   15000.00    52900.0\n",
              "50%       1.60        1.00      2019.00      2019.0   36300.00    82490.0\n",
              "75%       2.00        1.00      2019.00      2020.0   60850.00   138400.0\n",
              "max       6.70        1.00      2022.00      2022.0  999999.00  1350000.0"
            ]
          },
          "metadata": {},
          "execution_count": 32
        }
      ]
    },
    {
      "cell_type": "code",
      "metadata": {
        "colab": {
          "base_uri": "https://localhost:8080/"
        },
        "id": "dVNEhg5fSSpV",
        "outputId": "4942a3ce-5e45-4c11-89df-50fbedf95245"
      },
      "source": [
        "# Estatísticas para valores categóricos\n",
        "carros.describe(include=['object','category'])"
      ],
      "execution_count": null,
      "outputs": [
        {
          "output_type": "execute_result",
          "data": {
            "text/html": [
              "<div>\n",
              "<style scoped>\n",
              "    .dataframe tbody tr th:only-of-type {\n",
              "        vertical-align: middle;\n",
              "    }\n",
              "\n",
              "    .dataframe tbody tr th {\n",
              "        vertical-align: top;\n",
              "    }\n",
              "\n",
              "    .dataframe thead th {\n",
              "        text-align: right;\n",
              "    }\n",
              "</style>\n",
              "<table border=\"1\" class=\"dataframe\">\n",
              "  <thead>\n",
              "    <tr style=\"text-align: right;\">\n",
              "      <th></th>\n",
              "      <th>car</th>\n",
              "      <th>fabricante</th>\n",
              "      <th>combustivel</th>\n",
              "      <th>anunciante</th>\n",
              "      <th>cidade</th>\n",
              "      <th>estado</th>\n",
              "      <th>regiao</th>\n",
              "    </tr>\n",
              "  </thead>\n",
              "  <tbody>\n",
              "    <tr>\n",
              "      <th>count</th>\n",
              "      <td>1347</td>\n",
              "      <td>1347</td>\n",
              "      <td>1347</td>\n",
              "      <td>1347</td>\n",
              "      <td>1347</td>\n",
              "      <td>1347</td>\n",
              "      <td>1347</td>\n",
              "    </tr>\n",
              "    <tr>\n",
              "      <th>unique</th>\n",
              "      <td>171</td>\n",
              "      <td>28</td>\n",
              "      <td>4</td>\n",
              "      <td>3</td>\n",
              "      <td>269</td>\n",
              "      <td>23</td>\n",
              "      <td>5</td>\n",
              "    </tr>\n",
              "    <tr>\n",
              "      <th>top</th>\n",
              "      <td>CHEVROLET ONIX</td>\n",
              "      <td>CHEVROLET</td>\n",
              "      <td>FLEX</td>\n",
              "      <td>Loja</td>\n",
              "      <td>São Paulo</td>\n",
              "      <td>SP</td>\n",
              "      <td>Sudeste</td>\n",
              "    </tr>\n",
              "    <tr>\n",
              "      <th>freq</th>\n",
              "      <td>125</td>\n",
              "      <td>215</td>\n",
              "      <td>1011</td>\n",
              "      <td>711</td>\n",
              "      <td>238</td>\n",
              "      <td>637</td>\n",
              "      <td>857</td>\n",
              "    </tr>\n",
              "  </tbody>\n",
              "</table>\n",
              "</div>"
            ],
            "text/plain": [
              "                   car fabricante combustivel  ...     cidade estado   regiao\n",
              "count             1347       1347        1347  ...       1347   1347     1347\n",
              "unique             171         28           4  ...        269     23        5\n",
              "top     CHEVROLET ONIX  CHEVROLET        FLEX  ...  São Paulo     SP  Sudeste\n",
              "freq               125        215        1011  ...        238    637      857\n",
              "\n",
              "[4 rows x 7 columns]"
            ]
          },
          "metadata": {},
          "execution_count": 33
        }
      ]
    },
    {
      "cell_type": "markdown",
      "metadata": {
        "id": "7feIBk9MTqTI"
      },
      "source": [
        "**I n s i g h t s**:\n",
        "* Média de potência do motor: 1.7\n",
        "* Média KM: 43.6k, porém com desvio padrão bem alto [50k], indicando outliers.\n",
        " - O valor máximo de KM é suspeito.\n",
        "* Média de preço é ~R$125k, mas os dados também parecem dispersos. A verificar.\n",
        "* Chevrolet Onix é o carro mais anunciado neste dataset.\n",
        "* Carros da GM são os mais anunciados.\n",
        "* Os anúncios tem a maioria de carros compactos, flex, automáticos e de fabricação recente.\n",
        "* Lojas são as maiores anunciantes neste conjunto de dados.\n",
        "* São Paulo lidera na quantidade anúncios.\n"
      ]
    },
    {
      "cell_type": "markdown",
      "metadata": {
        "id": "rhge1_wk0-S5"
      },
      "source": [
        "### Histogramas"
      ]
    },
    {
      "cell_type": "code",
      "metadata": {
        "id": "pvwKfN1kS_Ld",
        "colab": {
          "base_uri": "https://localhost:8080/"
        },
        "outputId": "c4075f78-5ac9-4e46-9fa6-4cd2703c397c"
      },
      "source": [
        "# Plotando histogramas\n",
        "fig, (g1, g2, g3) = plt.subplots(nrows=1, ncols=3, figsize=(25,7))\n",
        "\n",
        "g1 = sns.histplot(carros, x='motor', bins=10, kde=True, ax=g1)\n",
        "g1.set_title('Histograma de Motor', size=15)\n",
        "\n",
        "g2 = sns.histplot(carros, x='km', bins=20, kde=True, ax=g2)\n",
        "g2.set_title('Histograma de KM', size=15)\n",
        "g2.set_xticklabels(g2.get_xticks()/1000) # retorna os valores do eixo x dividido por 1000\n",
        "g2.set_xlabel('KM em milhares')\n",
        "\n",
        "g3 = sns.histplot(carros, x='preco', bins=10, kde=True, ax=g3)\n",
        "g3.set_title('Histograma de Preço', size=15)\n",
        "plt.xticks(g3.get_xticks(), g3.get_xticks()/1000) # retorna os valores do eixo x dividido por 1000\n",
        "plt.xlim((0,1400000))\n",
        "g3.set_xlabel('Preço em milhares')\n",
        "\n",
        ";"
      ],
      "execution_count": null,
      "outputs": [
        {
          "output_type": "execute_result",
          "data": {
            "application/vnd.google.colaboratory.intrinsic+json": {
              "type": "string"
            },
            "text/plain": [
              "''"
            ]
          },
          "metadata": {},
          "execution_count": 34
        },
        {
          "output_type": "display_data",
          "data": {
            "image/png": "[encoded data removed]",
            "text/plain": [
              "<Figure size 1800x504 with 3 Axes>"
            ]
          },
          "metadata": {}
        }
      ]
    },
    {
      "cell_type": "markdown",
      "metadata": {
        "id": "cJbfSR0d8UAN"
      },
      "source": [
        "**Análise**:\n",
        "* A maioria dos dados está concentrada em motores entre 1.0 e 2.0, reiterando o que foi demonstrado pela média.\n",
        "* A quilometragem dos carros está bem concentrada na faixa entre 0 e 50 mil km nesse dataset.\n",
        "* O número de automóveis cai exponencialmente à medida em que aumenta o preço."
      ]
    },
    {
      "cell_type": "markdown",
      "metadata": {
        "id": "1MtHe78q9MGd"
      },
      "source": [
        "### Análises Univariadas"
      ]
    },
    {
      "cell_type": "markdown",
      "metadata": {
        "id": "W7GK1H5wCriN"
      },
      "source": [
        "As análises univariadas são úteis para que possamos extrair bons insights do dataset ao olhar para uma variável de cada vez."
      ]
    },
    {
      "cell_type": "code",
      "metadata": {
        "colab": {
          "base_uri": "https://localhost:8080/"
        },
        "id": "lC82KNT-6shK",
        "outputId": "f49073ed-7417-4a15-9de3-fe07abf81fbc"
      },
      "source": [
        "# Cria figura para customizar tamanho do gráfico\n",
        "plt.figure(figsize=(16,8))\n",
        "# Cria ordem das barras \n",
        "ordem = carros.groupby('motor').motor.count().sort_values(ascending=False).index\n",
        "# Count Plot Motor\n",
        "sns.countplot(y='motor', data=carros, color='steelblue', order=ordem );"
      ],
      "execution_count": null,
      "outputs": [
        {
          "output_type": "display_data",
          "data": {
            "image/png": "[encoded data removed]",
            "text/plain": [
              "<Figure size 1152x576 with 1 Axes>"
            ]
          },
          "metadata": {}
        }
      ]
    },
    {
      "cell_type": "code",
      "metadata": {
        "colab": {
          "base_uri": "https://localhost:8080/"
        },
        "id": "lBbYE-NyBJQf",
        "outputId": "21119709-2c3d-4924-c7cb-78f966255554"
      },
      "source": [
        "# Cria figura para customizar tamanho do gráfico\n",
        "plt.figure(figsize=(16,8))\n",
        "# Cria ordem das barras \n",
        "ordem = carros.groupby('fabricante').motor.count().sort_values(ascending=False).index\n",
        "# Count Plot\n",
        "sns.countplot(y='fabricante', data=carros, color='steelblue', order=ordem );"
      ],
      "execution_count": null,
      "outputs": [
        {
          "output_type": "display_data",
          "data": {
            "image/png": "[encoded data removed]",
            "text/plain": [
              "<Figure size 1152x576 with 1 Axes>"
            ]
          },
          "metadata": {}
        }
      ]
    },
    {
      "cell_type": "markdown",
      "metadata": {
        "id": "Gfv5VIwJIK9P"
      },
      "source": [
        "As 5 montadoras mais populares neste dataset (GM, VW, Renault, Ford e FIAT) são as que vendem carros mais populares."
      ]
    },
    {
      "cell_type": "code",
      "metadata": {
        "colab": {
          "base_uri": "https://localhost:8080/"
        },
        "id": "iKOA32woHtMD",
        "outputId": "55c3e408-6aa2-42a5-9c92-e7ce112751e3"
      },
      "source": [
        "# Cria figura para customizar tamanho do gráfico\n",
        "plt.figure(figsize=(16,8))\n",
        "# Cria ordem das barras \n",
        "ordem = carros.groupby('estado').motor.count().sort_values(ascending=False).index\n",
        "# Count Plot\n",
        "sns.countplot(y='estado', data=carros, color='steelblue', order=ordem );"
      ],
      "execution_count": null,
      "outputs": [
        {
          "output_type": "display_data",
          "data": {
            "image/png": "[encoded data removed]",
            "text/plain": [
              "<Figure size 1152x576 with 1 Axes>"
            ]
          },
          "metadata": {}
        }
      ]
    },
    {
      "cell_type": "markdown",
      "metadata": {
        "id": "GDNY5kv-IkrN"
      },
      "source": [
        "O estado mais rico e populoso do país tem a maioria dos anúncios. Faz sentido."
      ]
    },
    {
      "cell_type": "code",
      "metadata": {
        "colab": {
          "base_uri": "https://localhost:8080/"
        },
        "id": "KeMbt-YFIes3",
        "outputId": "8241c276-6bec-4c60-a2ff-ebc0f72ded13"
      },
      "source": [
        "# Cria figura para customizar tamanho do gráfico\n",
        "fig, g = plt.subplots(1,3, figsize=(25,8))\n",
        "\n",
        "g1 = sns.countplot(data=carros, x='combustivel', color='steelblue', ax=g[0])\n",
        "g1.set_title('Countplot de Combustível', size=15)\n",
        "\n",
        "g2 = sns.countplot(data=carros, x='automatico', ax=g[1])\n",
        "g2.set_title('Countplot de Cambio (Y = Automatico, N = Manual)', size=15)\n",
        "\n",
        "g3 = sns.countplot(data=carros, x='ano_fabrica', color='steelblue', ax=g[2])\n",
        "g3.set_title('Countplot de Ano de Fabricação', size=15)\n",
        ";"
      ],
      "execution_count": null,
      "outputs": [
        {
          "output_type": "execute_result",
          "data": {
            "application/vnd.google.colaboratory.intrinsic+json": {
              "type": "string"
            },
            "text/plain": [
              "''"
            ]
          },
          "metadata": {},
          "execution_count": 38
        },
        {
          "output_type": "display_data",
          "data": {
            "image/png": "[encoded data removed]",
            "text/plain": [
              "<Figure size 1800x576 with 3 Axes>"
            ]
          },
          "metadata": {}
        }
      ]
    },
    {
      "cell_type": "code",
      "metadata": {
        "colab": {
          "base_uri": "https://localhost:8080/"
        },
        "id": "sEysdfoxRSiI",
        "outputId": "c710575d-3374-482d-e90e-f7b725f10e23"
      },
      "source": [
        "# Fabricado em 2022 não faz sentido.\n",
        "carros.query('ano_fabrica == 2022')"
      ],
      "execution_count": null,
      "outputs": [
        {
          "output_type": "execute_result",
          "data": {
            "text/html": [
              "<div>\n",
              "<style scoped>\n",
              "    .dataframe tbody tr th:only-of-type {\n",
              "        vertical-align: middle;\n",
              "    }\n",
              "\n",
              "    .dataframe tbody tr th {\n",
              "        vertical-align: top;\n",
              "    }\n",
              "\n",
              "    .dataframe thead th {\n",
              "        text-align: right;\n",
              "    }\n",
              "</style>\n",
              "<table border=\"1\" class=\"dataframe\">\n",
              "  <thead>\n",
              "    <tr style=\"text-align: right;\">\n",
              "      <th></th>\n",
              "      <th>car</th>\n",
              "      <th>fabricante</th>\n",
              "      <th>motor</th>\n",
              "      <th>combustivel</th>\n",
              "      <th>automatico</th>\n",
              "      <th>ano_fabrica</th>\n",
              "      <th>ano_modelo</th>\n",
              "      <th>km</th>\n",
              "      <th>anunciante</th>\n",
              "      <th>cidade</th>\n",
              "      <th>estado</th>\n",
              "      <th>regiao</th>\n",
              "      <th>preco</th>\n",
              "    </tr>\n",
              "  </thead>\n",
              "  <tbody>\n",
              "    <tr>\n",
              "      <th>433</th>\n",
              "      <td>FORD RANGER</td>\n",
              "      <td>FORD</td>\n",
              "      <td>2.2</td>\n",
              "      <td>DIESEL</td>\n",
              "      <td>1</td>\n",
              "      <td>2022</td>\n",
              "      <td>2022</td>\n",
              "      <td>0</td>\n",
              "      <td>Loja</td>\n",
              "      <td>Santa Cruz do Sul</td>\n",
              "      <td>RS</td>\n",
              "      <td>Sul</td>\n",
              "      <td>209900.0</td>\n",
              "    </tr>\n",
              "    <tr>\n",
              "      <th>1090</th>\n",
              "      <td>FIAT ARGO</td>\n",
              "      <td>FIAT</td>\n",
              "      <td>1.3</td>\n",
              "      <td>FLEX</td>\n",
              "      <td>0</td>\n",
              "      <td>2022</td>\n",
              "      <td>2022</td>\n",
              "      <td>900</td>\n",
              "      <td>Pessoa Física</td>\n",
              "      <td>São Paulo</td>\n",
              "      <td>SP</td>\n",
              "      <td>Sudeste</td>\n",
              "      <td>78000.0</td>\n",
              "    </tr>\n",
              "  </tbody>\n",
              "</table>\n",
              "</div>"
            ],
            "text/plain": [
              "              car fabricante  motor  ... estado   regiao     preco\n",
              "433   FORD RANGER       FORD    2.2  ...     RS      Sul  209900.0\n",
              "1090    FIAT ARGO       FIAT    1.3  ...     SP  Sudeste   78000.0\n",
              "\n",
              "[2 rows x 13 columns]"
            ]
          },
          "metadata": {},
          "execution_count": 39
        }
      ]
    },
    {
      "cell_type": "code",
      "metadata": {
        "id": "Un6CUtEXRnb2"
      },
      "source": [
        "# Corrigir para 2021\n",
        "carros.ano_fabrica.replace({2022:2021}, inplace=True)"
      ],
      "execution_count": null,
      "outputs": []
    },
    {
      "cell_type": "markdown",
      "metadata": {
        "id": "hqiMcDTOLRmI"
      },
      "source": [
        "Os dados seguem coerentes. Tecnologia Flex é muito forte no Brasil e os carros automáticos ganham cada vez mais mercado. Sabendo que os anúncios são majoritariamente de SP, também faz sentido que ver o ano de fábrica mais recente, pois o mercado de revenda gira mais no estado. "
      ]
    },
    {
      "cell_type": "code",
      "metadata": {
        "colab": {
          "base_uri": "https://localhost:8080/"
        },
        "id": "lwl_yEUdL3oC",
        "outputId": "6c312262-16d4-4cc9-9c33-d75d0e6f4c55"
      },
      "source": [
        "# QQPlot e ECDF de Preço\n",
        "\n",
        "# Cria figura para customizar tamanho do gráfico\n",
        "fig, g = plt.subplots(1,2, figsize=(25,8))\n",
        "\n",
        "g1 = sm.qqplot(carros.preco, line='s', ax=g[0])\n",
        "\n",
        "g2 = sns.ecdfplot(data=carros, x='preco', marker='o', alpha=0.1, ax=g[1])\n",
        "g2.set_title('ECDF de Preço', size=15)\n",
        "# Linhas nos 50% dos dados\n",
        "mediana = carros.preco.median() # mediana\n",
        "g2 = plt.hlines(y=0.5, xmin=-1000, xmax=1400000, colors='red', linestyles='--') # linha horizontal\n",
        "g2 = plt.vlines(x=mediana, ymin=0, ymax=1, colors='red') #linha vertical\n",
        "g2 = plt.annotate(f'Mediana: {mediana:,}', xy=(mediana+17000, 0.52)) # anotação do valor da mediana\n",
        ";"
      ],
      "execution_count": null,
      "outputs": [
        {
          "output_type": "execute_result",
          "data": {
            "application/vnd.google.colaboratory.intrinsic+json": {
              "type": "string"
            },
            "text/plain": [
              "''"
            ]
          },
          "metadata": {},
          "execution_count": 41
        },
        {
          "output_type": "display_data",
          "data": {
            "image/png": "[encoded data removed]",
            "text/plain": [
              "<Figure size 1800x576 with 2 Axes>"
            ]
          },
          "metadata": {}
        }
      ]
    },
    {
      "cell_type": "code",
      "metadata": {
        "colab": {
          "base_uri": "https://localhost:8080/"
        },
        "id": "0IOOiK8tOWb3",
        "outputId": "553da062-4f10-4f9f-9c26-0f4e5a9672c4"
      },
      "source": [
        "# Boxplots\n",
        "fig, g = plt.subplots(1,3, figsize=(25,10))\n",
        "\n",
        "g1 = sns.boxplot(data=carros, y='preco', color='steelblue', ax=g[0])\n",
        "g1.set_title('Preço', size=15)\n",
        "\n",
        "g2 = sns.boxplot(data=carros, y='motor', ax=g[1])\n",
        "g2.set_title('Motor', size=15)\n",
        "\n",
        "g3 = sns.boxplot(data=carros, y='km', color='steelblue', ax=g[2])\n",
        "g3.set_title('Quilometragem', size=15)\n",
        ";"
      ],
      "execution_count": null,
      "outputs": [
        {
          "output_type": "execute_result",
          "data": {
            "application/vnd.google.colaboratory.intrinsic+json": {
              "type": "string"
            },
            "text/plain": [
              "''"
            ]
          },
          "metadata": {},
          "execution_count": 42
        },
        {
          "output_type": "display_data",
          "data": {
            "image/png": "[encoded data removed]",
            "text/plain": [
              "<Figure size 1800x720 with 3 Axes>"
            ]
          },
          "metadata": {}
        }
      ]
    },
    {
      "cell_type": "markdown",
      "metadata": {
        "id": "SHMFLO_KVLf0"
      },
      "source": [
        "Dos gráficos de [QQ Plot](https://www.geeksforgeeks.org/qqplot-quantile-quantile-plot-in-python/), ECDF e boxplots, percebemos que as variáveis tem outliers, os quais podem precisar de algum tratamento antes da modelagem.\n",
        "Veja como aquele valor suspeito (provavelmente errôneo) encurta o boxplot de KM."
      ]
    },
    {
      "cell_type": "code",
      "metadata": {
        "colab": {
          "base_uri": "https://localhost:8080/"
        },
        "id": "F7i4q4cHUDDV",
        "outputId": "e6293dda-a88e-4743-fb09-d8a71f99c8ee"
      },
      "source": [
        "# Teste de normalidade dos preços (variável target)\n",
        "_, p_value = stats.normaltest(carros.preco)\n",
        "print(f'-- Resultado do teste -- \\np-Value dos preços: {p_value.round()} < 0.05 \\nPortanto, há evidência estatística para rejeitar a normalidade da variável Preço.')"
      ],
      "execution_count": null,
      "outputs": [
        {
          "output_type": "stream",
          "text": [
            "-- Resultado do teste -- \n",
            "p-Value dos preços: 0.0 < 0.05 \n",
            "Portanto, há evidência estatística para rejeitar a normalidade da variável Preço.\n"
          ],
          "name": "stdout"
        }
      ]
    },
    {
      "cell_type": "markdown",
      "metadata": {
        "id": "NKXRVEVghLKE"
      },
      "source": [
        "*Os dados da variável target não são normais. Isso faz diferença?*\n",
        "\n",
        "Para casos de regressão linear, não. O que deve ser normalmente distribuído é a distribuição dos erros de predição.\n",
        "Leitura recomendada: https://tinyurl.com/783k3a63"
      ]
    },
    {
      "cell_type": "markdown",
      "metadata": {
        "id": "9XxfumQgMr8_"
      },
      "source": [
        "### Análises Bivariadas"
      ]
    },
    {
      "cell_type": "markdown",
      "metadata": {
        "id": "zhrdDEtkMwp4"
      },
      "source": [
        "As análises bivariadas são úteis para compararmos variáveis e entender a relação entre elas. Vamos ver como as variáveis independentes se relacionam com os preços."
      ]
    },
    {
      "cell_type": "code",
      "metadata": {
        "colab": {
          "base_uri": "https://localhost:8080/"
        },
        "id": "4YYYl1gHKgGa",
        "outputId": "7fab0817-23dc-4210-87a9-850a7870efef"
      },
      "source": [
        "# Tabela de correlação\n",
        "corr_ = carros.corr(method='spearman')\n",
        "\n",
        "pd.DataFrame(corr_).style.background_gradient(cmap='coolwarm')"
      ],
      "execution_count": null,
      "outputs": [
        {
          "output_type": "execute_result",
          "data": {
            "text/html": [
              "<style  type=\"text/css\" >\n",
              "#T_f3170500_0a5c_11ec_b8b1_0242ac1c0002row0_col0,#T_f3170500_0a5c_11ec_b8b1_0242ac1c0002row1_col1,#T_f3170500_0a5c_11ec_b8b1_0242ac1c0002row2_col2,#T_f3170500_0a5c_11ec_b8b1_0242ac1c0002row3_col3,#T_f3170500_0a5c_11ec_b8b1_0242ac1c0002row4_col4,#T_f3170500_0a5c_11ec_b8b1_0242ac1c0002row5_col5{\n",
              "            background-color:  #b40426;\n",
              "            color:  #f1f1f1;\n",
              "        }#T_f3170500_0a5c_11ec_b8b1_0242ac1c0002row0_col1,#T_f3170500_0a5c_11ec_b8b1_0242ac1c0002row5_col2{\n",
              "            background-color:  #f7b093;\n",
              "            color:  #000000;\n",
              "        }#T_f3170500_0a5c_11ec_b8b1_0242ac1c0002row0_col2{\n",
              "            background-color:  #c3d5f4;\n",
              "            color:  #000000;\n",
              "        }#T_f3170500_0a5c_11ec_b8b1_0242ac1c0002row0_col3{\n",
              "            background-color:  #bfd3f6;\n",
              "            color:  #000000;\n",
              "        }#T_f3170500_0a5c_11ec_b8b1_0242ac1c0002row0_col4{\n",
              "            background-color:  #bed2f6;\n",
              "            color:  #000000;\n",
              "        }#T_f3170500_0a5c_11ec_b8b1_0242ac1c0002row0_col5{\n",
              "            background-color:  #f18d6f;\n",
              "            color:  #000000;\n",
              "        }#T_f3170500_0a5c_11ec_b8b1_0242ac1c0002row1_col0,#T_f3170500_0a5c_11ec_b8b1_0242ac1c0002row2_col5{\n",
              "            background-color:  #f5c1a9;\n",
              "            color:  #000000;\n",
              "        }#T_f3170500_0a5c_11ec_b8b1_0242ac1c0002row1_col2{\n",
              "            background-color:  #dedcdb;\n",
              "            color:  #000000;\n",
              "        }#T_f3170500_0a5c_11ec_b8b1_0242ac1c0002row1_col3{\n",
              "            background-color:  #dbdcde;\n",
              "            color:  #000000;\n",
              "        }#T_f3170500_0a5c_11ec_b8b1_0242ac1c0002row1_col4{\n",
              "            background-color:  #98b9ff;\n",
              "            color:  #000000;\n",
              "        }#T_f3170500_0a5c_11ec_b8b1_0242ac1c0002row1_col5{\n",
              "            background-color:  #f08a6c;\n",
              "            color:  #000000;\n",
              "        }#T_f3170500_0a5c_11ec_b8b1_0242ac1c0002row2_col0{\n",
              "            background-color:  #4055c8;\n",
              "            color:  #f1f1f1;\n",
              "        }#T_f3170500_0a5c_11ec_b8b1_0242ac1c0002row2_col1{\n",
              "            background-color:  #a2c1ff;\n",
              "            color:  #000000;\n",
              "        }#T_f3170500_0a5c_11ec_b8b1_0242ac1c0002row2_col3,#T_f3170500_0a5c_11ec_b8b1_0242ac1c0002row3_col2{\n",
              "            background-color:  #bb1b2c;\n",
              "            color:  #f1f1f1;\n",
              "        }#T_f3170500_0a5c_11ec_b8b1_0242ac1c0002row2_col4,#T_f3170500_0a5c_11ec_b8b1_0242ac1c0002row3_col4,#T_f3170500_0a5c_11ec_b8b1_0242ac1c0002row4_col0,#T_f3170500_0a5c_11ec_b8b1_0242ac1c0002row4_col1,#T_f3170500_0a5c_11ec_b8b1_0242ac1c0002row4_col2,#T_f3170500_0a5c_11ec_b8b1_0242ac1c0002row4_col3,#T_f3170500_0a5c_11ec_b8b1_0242ac1c0002row4_col5{\n",
              "            background-color:  #3b4cc0;\n",
              "            color:  #f1f1f1;\n",
              "        }#T_f3170500_0a5c_11ec_b8b1_0242ac1c0002row3_col0{\n",
              "            background-color:  #3d50c3;\n",
              "            color:  #f1f1f1;\n",
              "        }#T_f3170500_0a5c_11ec_b8b1_0242ac1c0002row3_col1{\n",
              "            background-color:  #9ebeff;\n",
              "            color:  #000000;\n",
              "        }#T_f3170500_0a5c_11ec_b8b1_0242ac1c0002row3_col5{\n",
              "            background-color:  #f5c4ac;\n",
              "            color:  #000000;\n",
              "        }#T_f3170500_0a5c_11ec_b8b1_0242ac1c0002row5_col0{\n",
              "            background-color:  #f7b194;\n",
              "            color:  #000000;\n",
              "        }#T_f3170500_0a5c_11ec_b8b1_0242ac1c0002row5_col1{\n",
              "            background-color:  #f59c7d;\n",
              "            color:  #000000;\n",
              "        }#T_f3170500_0a5c_11ec_b8b1_0242ac1c0002row5_col3{\n",
              "            background-color:  #f7b497;\n",
              "            color:  #000000;\n",
              "        }#T_f3170500_0a5c_11ec_b8b1_0242ac1c0002row5_col4{\n",
              "            background-color:  #688aef;\n",
              "            color:  #000000;\n",
              "        }</style><table id=\"T_f3170500_0a5c_11ec_b8b1_0242ac1c0002\" ><thead>    <tr>        <th class=\"blank level0\" ></th>        <th class=\"col_heading level0 col0\" >motor</th>        <th class=\"col_heading level0 col1\" >automatico</th>        <th class=\"col_heading level0 col2\" >ano_fabrica</th>        <th class=\"col_heading level0 col3\" >ano_modelo</th>        <th class=\"col_heading level0 col4\" >km</th>        <th class=\"col_heading level0 col5\" >preco</th>    </tr></thead><tbody>\n",
              "                <tr>\n",
              "                        <th id=\"T_f3170500_0a5c_11ec_b8b1_0242ac1c0002level0_row0\" class=\"row_heading level0 row0\" >motor</th>\n",
              "                        <td id=\"T_f3170500_0a5c_11ec_b8b1_0242ac1c0002row0_col0\" class=\"data row0 col0\" >1.000000</td>\n",
              "                        <td id=\"T_f3170500_0a5c_11ec_b8b1_0242ac1c0002row0_col1\" class=\"data row0 col1\" >0.608790</td>\n",
              "                        <td id=\"T_f3170500_0a5c_11ec_b8b1_0242ac1c0002row0_col2\" class=\"data row0 col2\" >-0.046801</td>\n",
              "                        <td id=\"T_f3170500_0a5c_11ec_b8b1_0242ac1c0002row0_col3\" class=\"data row0 col3\" >-0.059842</td>\n",
              "                        <td id=\"T_f3170500_0a5c_11ec_b8b1_0242ac1c0002row0_col4\" class=\"data row0 col4\" >-0.068916</td>\n",
              "                        <td id=\"T_f3170500_0a5c_11ec_b8b1_0242ac1c0002row0_col5\" class=\"data row0 col5\" >0.665538</td>\n",
              "            </tr>\n",
              "            <tr>\n",
              "                        <th id=\"T_f3170500_0a5c_11ec_b8b1_0242ac1c0002level0_row1\" class=\"row_heading level0 row1\" >automatico</th>\n",
              "                        <td id=\"T_f3170500_0a5c_11ec_b8b1_0242ac1c0002row1_col0\" class=\"data row1 col0\" >0.608790</td>\n",
              "                        <td id=\"T_f3170500_0a5c_11ec_b8b1_0242ac1c0002row1_col1\" class=\"data row1 col1\" >1.000000</td>\n",
              "                        <td id=\"T_f3170500_0a5c_11ec_b8b1_0242ac1c0002row1_col2\" class=\"data row1 col2\" >0.127005</td>\n",
              "                        <td id=\"T_f3170500_0a5c_11ec_b8b1_0242ac1c0002row1_col3\" class=\"data row1 col3\" >0.111566</td>\n",
              "                        <td id=\"T_f3170500_0a5c_11ec_b8b1_0242ac1c0002row1_col4\" class=\"data row1 col4\" >-0.266539</td>\n",
              "                        <td id=\"T_f3170500_0a5c_11ec_b8b1_0242ac1c0002row1_col5\" class=\"data row1 col5\" >0.678167</td>\n",
              "            </tr>\n",
              "            <tr>\n",
              "                        <th id=\"T_f3170500_0a5c_11ec_b8b1_0242ac1c0002level0_row2\" class=\"row_heading level0 row2\" >ano_fabrica</th>\n",
              "                        <td id=\"T_f3170500_0a5c_11ec_b8b1_0242ac1c0002row2_col0\" class=\"data row2 col0\" >-0.046801</td>\n",
              "                        <td id=\"T_f3170500_0a5c_11ec_b8b1_0242ac1c0002row2_col1\" class=\"data row2 col1\" >0.127005</td>\n",
              "                        <td id=\"T_f3170500_0a5c_11ec_b8b1_0242ac1c0002row2_col2\" class=\"data row2 col2\" >1.000000</td>\n",
              "                        <td id=\"T_f3170500_0a5c_11ec_b8b1_0242ac1c0002row2_col3\" class=\"data row2 col3\" >0.963565</td>\n",
              "                        <td id=\"T_f3170500_0a5c_11ec_b8b1_0242ac1c0002row2_col4\" class=\"data row2 col4\" >-0.763446</td>\n",
              "                        <td id=\"T_f3170500_0a5c_11ec_b8b1_0242ac1c0002row2_col5\" class=\"data row2 col5\" >0.452068</td>\n",
              "            </tr>\n",
              "            <tr>\n",
              "                        <th id=\"T_f3170500_0a5c_11ec_b8b1_0242ac1c0002level0_row3\" class=\"row_heading level0 row3\" >ano_modelo</th>\n",
              "                        <td id=\"T_f3170500_0a5c_11ec_b8b1_0242ac1c0002row3_col0\" class=\"data row3 col0\" >-0.059842</td>\n",
              "                        <td id=\"T_f3170500_0a5c_11ec_b8b1_0242ac1c0002row3_col1\" class=\"data row3 col1\" >0.111566</td>\n",
              "                        <td id=\"T_f3170500_0a5c_11ec_b8b1_0242ac1c0002row3_col2\" class=\"data row3 col2\" >0.963565</td>\n",
              "                        <td id=\"T_f3170500_0a5c_11ec_b8b1_0242ac1c0002row3_col3\" class=\"data row3 col3\" >1.000000</td>\n",
              "                        <td id=\"T_f3170500_0a5c_11ec_b8b1_0242ac1c0002row3_col4\" class=\"data row3 col4\" >-0.757001</td>\n",
              "                        <td id=\"T_f3170500_0a5c_11ec_b8b1_0242ac1c0002row3_col5\" class=\"data row3 col5\" >0.436947</td>\n",
              "            </tr>\n",
              "            <tr>\n",
              "                        <th id=\"T_f3170500_0a5c_11ec_b8b1_0242ac1c0002level0_row4\" class=\"row_heading level0 row4\" >km</th>\n",
              "                        <td id=\"T_f3170500_0a5c_11ec_b8b1_0242ac1c0002row4_col0\" class=\"data row4 col0\" >-0.068916</td>\n",
              "                        <td id=\"T_f3170500_0a5c_11ec_b8b1_0242ac1c0002row4_col1\" class=\"data row4 col1\" >-0.266539</td>\n",
              "                        <td id=\"T_f3170500_0a5c_11ec_b8b1_0242ac1c0002row4_col2\" class=\"data row4 col2\" >-0.763446</td>\n",
              "                        <td id=\"T_f3170500_0a5c_11ec_b8b1_0242ac1c0002row4_col3\" class=\"data row4 col3\" >-0.757001</td>\n",
              "                        <td id=\"T_f3170500_0a5c_11ec_b8b1_0242ac1c0002row4_col4\" class=\"data row4 col4\" >1.000000</td>\n",
              "                        <td id=\"T_f3170500_0a5c_11ec_b8b1_0242ac1c0002row4_col5\" class=\"data row4 col5\" >-0.506247</td>\n",
              "            </tr>\n",
              "            <tr>\n",
              "                        <th id=\"T_f3170500_0a5c_11ec_b8b1_0242ac1c0002level0_row5\" class=\"row_heading level0 row5\" >preco</th>\n",
              "                        <td id=\"T_f3170500_0a5c_11ec_b8b1_0242ac1c0002row5_col0\" class=\"data row5 col0\" >0.665538</td>\n",
              "                        <td id=\"T_f3170500_0a5c_11ec_b8b1_0242ac1c0002row5_col1\" class=\"data row5 col1\" >0.678167</td>\n",
              "                        <td id=\"T_f3170500_0a5c_11ec_b8b1_0242ac1c0002row5_col2\" class=\"data row5 col2\" >0.452068</td>\n",
              "                        <td id=\"T_f3170500_0a5c_11ec_b8b1_0242ac1c0002row5_col3\" class=\"data row5 col3\" >0.436947</td>\n",
              "                        <td id=\"T_f3170500_0a5c_11ec_b8b1_0242ac1c0002row5_col4\" class=\"data row5 col4\" >-0.506247</td>\n",
              "                        <td id=\"T_f3170500_0a5c_11ec_b8b1_0242ac1c0002row5_col5\" class=\"data row5 col5\" >1.000000</td>\n",
              "            </tr>\n",
              "    </tbody></table>"
            ],
            "text/plain": [
              "<pandas.io.formats.style.Styler at 0x7ff82b368810>"
            ]
          },
          "metadata": {},
          "execution_count": 44
        }
      ]
    },
    {
      "cell_type": "markdown",
      "metadata": {
        "id": "etY1z95cjbAo"
      },
      "source": [
        "Usamos o método de *Spearman* porque os preços não seguem uma relação linear, mas sim exponencial. Os resultados mostram correlação razoável entre preço e potência do motor e uma relação moderada entre ano de fabricação e quilometragem com o valor do automóvel."
      ]
    },
    {
      "cell_type": "code",
      "metadata": {
        "colab": {
          "base_uri": "https://localhost:8080/"
        },
        "id": "j6fPx7HsiK0S",
        "outputId": "9dfe8d06-0228-4783-9717-4c1d25c31417"
      },
      "source": [
        "# Cria figura para customizar tamanho do gráfico\n",
        "fig, g = plt.subplots(1,3, figsize=(25,8))\n",
        "\n",
        "# Plot dos gráficos de dispersão\n",
        "g1 = sns.regplot(data=carros, x='motor', y='preco', ax=g[0])\n",
        "g1.set_title('Motor x Preço', size=15)\n",
        "\n",
        "g2 = sns.regplot(data=carros.query('km <= 700000'), x='km', y='preco', ax=g[1]) # filtro sem outlier 999,999\n",
        "g2.set_title('KM x Preço', size=15)\n",
        "\n",
        "g3 = sns.regplot(data=carros, x='ano_fabrica', y='preco', ax=g[2])\n",
        "g3.set_title('Ano Frabricação x Preço', size=15)\n",
        ";"
      ],
      "execution_count": null,
      "outputs": [
        {
          "output_type": "execute_result",
          "data": {
            "application/vnd.google.colaboratory.intrinsic+json": {
              "type": "string"
            },
            "text/plain": [
              "''"
            ]
          },
          "metadata": {},
          "execution_count": 45
        },
        {
          "output_type": "display_data",
          "data": {
            "image/png": "[encoded data removed]",
            "text/plain": [
              "<Figure size 1800x576 with 3 Axes>"
            ]
          },
          "metadata": {}
        }
      ]
    },
    {
      "cell_type": "markdown",
      "metadata": {
        "id": "e0UX3j3WmcOf"
      },
      "source": [
        "A seguir, vamos plotar os gráficos das variáveis categóricas em relação ao preço."
      ]
    },
    {
      "cell_type": "code",
      "metadata": {
        "colab": {
          "base_uri": "https://localhost:8080/"
        },
        "id": "Vpp1uWb6kJc6",
        "outputId": "4824cb9a-bbd0-456d-872b-aaa0b1766885"
      },
      "source": [
        "# Cria figura para customizar tamanho do gráfico\n",
        "fig, g = plt.subplots(2,2, figsize=(28,14))\n",
        "\n",
        "# Plot dos gráficos\n",
        "\n",
        "# Preços por tipo de transmissão\n",
        "g1 = sns.boxplot(data=carros, x='automatico', y='preco', ax=g[0][0])\n",
        "g1.set_title('Transmissão x Preço', size=15)\n",
        "\n",
        "# Preços por Anunciante\n",
        "g2 = sns.boxplot(data=carros, x='anunciante', y='preco', ax=g[0][1])\n",
        "g2.set_title('Anunciante x Preço', size=15)\n",
        "\n",
        "# Combistível x Preço\n",
        "g3 = sns.boxplot(data=carros, x='combustivel', y='preco', ax=g[1][0])\n",
        "g3.set_title('Combustível x Preço', size=15)\n",
        "\n",
        "# Estado x Preço\n",
        "ordem = carros.groupby('estado').preco.median().sort_values().index\n",
        "g3 = sns.boxplot(data=carros, x='estado', y='preco', order=ordem, ax=g[1][1])\n",
        "g3.set_title('Estado x Preço', size=15)\n",
        ";"
      ],
      "execution_count": null,
      "outputs": [
        {
          "output_type": "execute_result",
          "data": {
            "application/vnd.google.colaboratory.intrinsic+json": {
              "type": "string"
            },
            "text/plain": [
              "''"
            ]
          },
          "metadata": {},
          "execution_count": 46
        },
        {
          "output_type": "display_data",
          "data": {
            "image/png": "[encoded data removed]",
            "text/plain": [
              "<Figure size 2016x1008 with 4 Axes>"
            ]
          },
          "metadata": {}
        }
      ]
    },
    {
      "cell_type": "code",
      "metadata": {
        "colab": {
          "base_uri": "https://localhost:8080/"
        },
        "id": "upwLB62MfKid",
        "outputId": "6735bd67-da37-48ce-d480-61b38f4e2e55"
      },
      "source": [
        "# Preços por Tipo de Câmbio\n",
        "carros.groupby('automatico').preco.agg(['mean', 'std'])"
      ],
      "execution_count": null,
      "outputs": [
        {
          "output_type": "execute_result",
          "data": {
            "text/html": [
              "<div>\n",
              "<style scoped>\n",
              "    .dataframe tbody tr th:only-of-type {\n",
              "        vertical-align: middle;\n",
              "    }\n",
              "\n",
              "    .dataframe tbody tr th {\n",
              "        vertical-align: top;\n",
              "    }\n",
              "\n",
              "    .dataframe thead th {\n",
              "        text-align: right;\n",
              "    }\n",
              "</style>\n",
              "<table border=\"1\" class=\"dataframe\">\n",
              "  <thead>\n",
              "    <tr style=\"text-align: right;\">\n",
              "      <th></th>\n",
              "      <th>mean</th>\n",
              "      <th>std</th>\n",
              "    </tr>\n",
              "    <tr>\n",
              "      <th>automatico</th>\n",
              "      <th></th>\n",
              "      <th></th>\n",
              "    </tr>\n",
              "  </thead>\n",
              "  <tbody>\n",
              "    <tr>\n",
              "      <th>0</th>\n",
              "      <td>54116.912134</td>\n",
              "      <td>21089.948513</td>\n",
              "    </tr>\n",
              "    <tr>\n",
              "      <th>1</th>\n",
              "      <td>164127.570771</td>\n",
              "      <td>146650.594961</td>\n",
              "    </tr>\n",
              "  </tbody>\n",
              "</table>\n",
              "</div>"
            ],
            "text/plain": [
              "                     mean            std\n",
              "automatico                              \n",
              "0            54116.912134   21089.948513\n",
              "1           164127.570771  146650.594961"
            ]
          },
          "metadata": {},
          "execution_count": 47
        }
      ]
    },
    {
      "cell_type": "code",
      "metadata": {
        "colab": {
          "base_uri": "https://localhost:8080/"
        },
        "id": "JxSiEdmOfTqa",
        "outputId": "43abc5a1-18ff-45e4-d258-aebf550d471d"
      },
      "source": [
        "# Preços por Tipo de anunciante\n",
        "carros.groupby('anunciante').preco.agg(['mean', 'std'])"
      ],
      "execution_count": null,
      "outputs": [
        {
          "output_type": "execute_result",
          "data": {
            "text/html": [
              "<div>\n",
              "<style scoped>\n",
              "    .dataframe tbody tr th:only-of-type {\n",
              "        vertical-align: middle;\n",
              "    }\n",
              "\n",
              "    .dataframe tbody tr th {\n",
              "        vertical-align: top;\n",
              "    }\n",
              "\n",
              "    .dataframe thead th {\n",
              "        text-align: right;\n",
              "    }\n",
              "</style>\n",
              "<table border=\"1\" class=\"dataframe\">\n",
              "  <thead>\n",
              "    <tr style=\"text-align: right;\">\n",
              "      <th></th>\n",
              "      <th>mean</th>\n",
              "      <th>std</th>\n",
              "    </tr>\n",
              "    <tr>\n",
              "      <th>anunciante</th>\n",
              "      <th></th>\n",
              "      <th></th>\n",
              "    </tr>\n",
              "  </thead>\n",
              "  <tbody>\n",
              "    <tr>\n",
              "      <th>Concessionária</th>\n",
              "      <td>144299.757962</td>\n",
              "      <td>121775.830999</td>\n",
              "    </tr>\n",
              "    <tr>\n",
              "      <th>Loja</th>\n",
              "      <td>141401.306610</td>\n",
              "      <td>135855.714027</td>\n",
              "    </tr>\n",
              "    <tr>\n",
              "      <th>Pessoa Física</th>\n",
              "      <td>94579.022965</td>\n",
              "      <td>116621.558563</td>\n",
              "    </tr>\n",
              "  </tbody>\n",
              "</table>\n",
              "</div>"
            ],
            "text/plain": [
              "                         mean            std\n",
              "anunciante                                  \n",
              "Concessionária  144299.757962  121775.830999\n",
              "Loja            141401.306610  135855.714027\n",
              "Pessoa Física    94579.022965  116621.558563"
            ]
          },
          "metadata": {},
          "execution_count": 48
        }
      ]
    },
    {
      "cell_type": "code",
      "metadata": {
        "colab": {
          "base_uri": "https://localhost:8080/"
        },
        "id": "-q6b0U-XfZMb",
        "outputId": "779c84ba-3542-4d9a-9da1-da6f3435bdff"
      },
      "source": [
        "# Preços por Região\n",
        "carros.groupby('regiao').preco.agg(['mean', 'std', 'count']).sort_values(by='mean' , ascending=False)"
      ],
      "execution_count": null,
      "outputs": [
        {
          "output_type": "execute_result",
          "data": {
            "text/html": [
              "<div>\n",
              "<style scoped>\n",
              "    .dataframe tbody tr th:only-of-type {\n",
              "        vertical-align: middle;\n",
              "    }\n",
              "\n",
              "    .dataframe tbody tr th {\n",
              "        vertical-align: top;\n",
              "    }\n",
              "\n",
              "    .dataframe thead th {\n",
              "        text-align: right;\n",
              "    }\n",
              "</style>\n",
              "<table border=\"1\" class=\"dataframe\">\n",
              "  <thead>\n",
              "    <tr style=\"text-align: right;\">\n",
              "      <th></th>\n",
              "      <th>mean</th>\n",
              "      <th>std</th>\n",
              "      <th>count</th>\n",
              "    </tr>\n",
              "    <tr>\n",
              "      <th>regiao</th>\n",
              "      <th></th>\n",
              "      <th></th>\n",
              "      <th></th>\n",
              "    </tr>\n",
              "  </thead>\n",
              "  <tbody>\n",
              "    <tr>\n",
              "      <th>Centro-Oeste</th>\n",
              "      <td>176273.207547</td>\n",
              "      <td>235801.323465</td>\n",
              "      <td>106</td>\n",
              "    </tr>\n",
              "    <tr>\n",
              "      <th>Sul</th>\n",
              "      <td>145831.578767</td>\n",
              "      <td>131454.293910</td>\n",
              "      <td>292</td>\n",
              "    </tr>\n",
              "    <tr>\n",
              "      <th>Norte</th>\n",
              "      <td>125986.153846</td>\n",
              "      <td>114244.679857</td>\n",
              "      <td>13</td>\n",
              "    </tr>\n",
              "    <tr>\n",
              "      <th>Sudeste</th>\n",
              "      <td>113418.910152</td>\n",
              "      <td>108575.679886</td>\n",
              "      <td>857</td>\n",
              "    </tr>\n",
              "    <tr>\n",
              "      <th>Nordeste</th>\n",
              "      <td>106191.594937</td>\n",
              "      <td>110302.299801</td>\n",
              "      <td>79</td>\n",
              "    </tr>\n",
              "  </tbody>\n",
              "</table>\n",
              "</div>"
            ],
            "text/plain": [
              "                       mean            std  count\n",
              "regiao                                           \n",
              "Centro-Oeste  176273.207547  235801.323465    106\n",
              "Sul           145831.578767  131454.293910    292\n",
              "Norte         125986.153846  114244.679857     13\n",
              "Sudeste       113418.910152  108575.679886    857\n",
              "Nordeste      106191.594937  110302.299801     79"
            ]
          },
          "metadata": {},
          "execution_count": 51
        }
      ]
    },
    {
      "cell_type": "code",
      "metadata": {
        "colab": {
          "base_uri": "https://localhost:8080/"
        },
        "id": "9Xg8WqFOV3az",
        "outputId": "58c08e95-cf80-43a4-c211-099262c12d99"
      },
      "source": [
        "# Preços por Região\n",
        "plt.figure(figsize=(18,7))\n",
        "\n",
        "# Ordem do plot\n",
        "ordem = carros.groupby('regiao').preco.median().sort_values().index\n",
        "\n",
        "g2 = sns.boxplot(data=carros, x='regiao', y='preco', order=ordem)\n",
        "g2.set_title('Região x Preço', size=15)\n",
        "plt.show()"
      ],
      "execution_count": null,
      "outputs": [
        {
          "output_type": "display_data",
          "data": {
            "image/png": "[encoded data removed]",
            "text/plain": [
              "<Figure size 1296x504 with 1 Axes>"
            ]
          },
          "metadata": {}
        }
      ]
    },
    {
      "cell_type": "code",
      "metadata": {
        "colab": {
          "base_uri": "https://localhost:8080/"
        },
        "id": "0IzUXd28kRh9",
        "outputId": "5ed14d16-0484-4092-f392-eeab231dbb9a"
      },
      "source": [
        "# Preços por Fabricante\n",
        "plt.figure(figsize=(22,8))\n",
        "\n",
        "# Ordem do plot\n",
        "ordem = carros.groupby('fabricante').preco.median().sort_values().index\n",
        "\n",
        "g2 = sns.boxplot(data=carros, x='fabricante', y='preco', order=ordem)\n",
        "g2.set_title('Fabricante x Preço', size=15)\n",
        "g2.tick_params(axis='x', rotation=330)\n",
        "plt.show()"
      ],
      "execution_count": null,
      "outputs": [
        {
          "output_type": "display_data",
          "data": {
            "image/png": "[encoded data removed]",
            "text/plain": [
              "<Figure size 1584x576 with 1 Axes>"
            ]
          },
          "metadata": {}
        }
      ]
    },
    {
      "cell_type": "markdown",
      "metadata": {
        "id": "22RcNYQ7tNe0"
      },
      "source": [
        "Podemos ver que a marca da montadora influencia no preço, como era esperado. As marcas de carros de luxo são bem mais caras do que as outras."
      ]
    },
    {
      "cell_type": "markdown",
      "metadata": {
        "id": "EWLGD4vJtsv7"
      },
      "source": [
        "## Tratamento de Outliers"
      ]
    },
    {
      "cell_type": "markdown",
      "metadata": {
        "id": "-4N3XTk9OEIM"
      },
      "source": [
        "Nesta fase do processo, vamos trabalhar com os outliers e/ ou erros em nosso dataset.\n",
        "Nem sempre a remoção de outliers é a melhor opção. Afinal, nosso dataset pode perfeitamente ter representantes em determinada faixa de preço. Em um primeiro momento, vamos deixá-los e testar também a remoção de valores muito extremos que pode distorcer as previsãoes.\n",
        "\n",
        "No caso deste dataset, sabemos que os carros mais caros de fato existem no mercado.\n",
        "\n",
        "Vamos, inicialmente, tratar a coluna KM, pois essa possui um valor extremo que é possivelmente um erro."
      ]
    },
    {
      "cell_type": "code",
      "metadata": {
        "colab": {
          "base_uri": "https://localhost:8080/"
        },
        "id": "e3nBJ9q7uIkY",
        "outputId": "527f0329-ce6e-406a-ad4c-4a682b6bc07a"
      },
      "source": [
        "# Verificando a coluna km\n",
        "carros.query('km > 200_000')"
      ],
      "execution_count": null,
      "outputs": [
        {
          "output_type": "execute_result",
          "data": {
            "text/html": [
              "<div>\n",
              "<style scoped>\n",
              "    .dataframe tbody tr th:only-of-type {\n",
              "        vertical-align: middle;\n",
              "    }\n",
              "\n",
              "    .dataframe tbody tr th {\n",
              "        vertical-align: top;\n",
              "    }\n",
              "\n",
              "    .dataframe thead th {\n",
              "        text-align: right;\n",
              "    }\n",
              "</style>\n",
              "<table border=\"1\" class=\"dataframe\">\n",
              "  <thead>\n",
              "    <tr style=\"text-align: right;\">\n",
              "      <th></th>\n",
              "      <th>car</th>\n",
              "      <th>fabricante</th>\n",
              "      <th>motor</th>\n",
              "      <th>combustivel</th>\n",
              "      <th>automatico</th>\n",
              "      <th>ano_fabrica</th>\n",
              "      <th>ano_modelo</th>\n",
              "      <th>km</th>\n",
              "      <th>anunciante</th>\n",
              "      <th>cidade</th>\n",
              "      <th>estado</th>\n",
              "      <th>regiao</th>\n",
              "      <th>preco</th>\n",
              "    </tr>\n",
              "  </thead>\n",
              "  <tbody>\n",
              "    <tr>\n",
              "      <th>397</th>\n",
              "      <td>MITSUBISHI L200 TRITON</td>\n",
              "      <td>MITSUBISHI</td>\n",
              "      <td>2.4</td>\n",
              "      <td>DIESEL</td>\n",
              "      <td>1</td>\n",
              "      <td>2017</td>\n",
              "      <td>2017</td>\n",
              "      <td>999999</td>\n",
              "      <td>Loja</td>\n",
              "      <td>Casca</td>\n",
              "      <td>RS</td>\n",
              "      <td>Sul</td>\n",
              "      <td>163900.0</td>\n",
              "    </tr>\n",
              "    <tr>\n",
              "      <th>770</th>\n",
              "      <td>VOLKSWAGEN JETTA</td>\n",
              "      <td>VOLKSWAGEN</td>\n",
              "      <td>2.5</td>\n",
              "      <td>GASOLINA</td>\n",
              "      <td>1</td>\n",
              "      <td>2010</td>\n",
              "      <td>2010</td>\n",
              "      <td>999999</td>\n",
              "      <td>Loja</td>\n",
              "      <td>Pato Branco</td>\n",
              "      <td>PR</td>\n",
              "      <td>Sul</td>\n",
              "      <td>47900.0</td>\n",
              "    </tr>\n",
              "    <tr>\n",
              "      <th>1081</th>\n",
              "      <td>CHEVROLET ONIX</td>\n",
              "      <td>CHEVROLET</td>\n",
              "      <td>1.0</td>\n",
              "      <td>FLEX</td>\n",
              "      <td>0</td>\n",
              "      <td>2016</td>\n",
              "      <td>2016</td>\n",
              "      <td>222000</td>\n",
              "      <td>Pessoa Física</td>\n",
              "      <td>Sumaré</td>\n",
              "      <td>SP</td>\n",
              "      <td>Sudeste</td>\n",
              "      <td>31000.0</td>\n",
              "    </tr>\n",
              "  </tbody>\n",
              "</table>\n",
              "</div>"
            ],
            "text/plain": [
              "                         car  fabricante  motor  ... estado   regiao     preco\n",
              "397   MITSUBISHI L200 TRITON  MITSUBISHI    2.4  ...     RS      Sul  163900.0\n",
              "770         VOLKSWAGEN JETTA  VOLKSWAGEN    2.5  ...     PR      Sul   47900.0\n",
              "1081          CHEVROLET ONIX   CHEVROLET    1.0  ...     SP  Sudeste   31000.0\n",
              "\n",
              "[3 rows x 13 columns]"
            ]
          },
          "metadata": {},
          "execution_count": 54
        }
      ]
    },
    {
      "cell_type": "markdown",
      "metadata": {
        "id": "kMUcJt2aQ8Qi"
      },
      "source": [
        "Observe que se puxarmos as observações com quilometragem maior do que 200 mil Km, temos o retorno de apenas 3 linhas. Duas delas tem o valor 999,999, o que é aparentemente uma entrada errônea, provavelmente porque o cliente não colocou aquela valor e o sistema entrou um número padrão. \n",
        "\n",
        "Para tratar esse valor, vamos usar ML para inputação com missing forest."
      ]
    },
    {
      "cell_type": "code",
      "metadata": {
        "id": "UKfrFSuYSVlO"
      },
      "source": [
        "# Substituir valores 999999 por NA\n",
        "carros.km.replace({999999:np.nan}, inplace=True)"
      ],
      "execution_count": null,
      "outputs": []
    },
    {
      "cell_type": "code",
      "metadata": {
        "colab": {
          "base_uri": "https://localhost:8080/"
        },
        "id": "EiFTUtIhuH3f",
        "outputId": "3e8d63c1-75d4-401f-c24f-674f43c600a8"
      },
      "source": [
        "# Instanciando o missingpy\n",
        "imputer = missingpy.MissForest()\n",
        "\n",
        "# Selecionando variáveis de entrada para previsão\n",
        "X = carros.select_dtypes('number')\n",
        "\n",
        "# Fit\n",
        "X_fit = imputer.fit_transform(X)\n"
      ],
      "execution_count": null,
      "outputs": [
        {
          "output_type": "stream",
          "text": [
            "Iteration: 0\n",
            "Iteration: 1\n",
            "Iteration: 2\n",
            "Iteration: 3\n"
          ],
          "name": "stdout"
        }
      ]
    },
    {
      "cell_type": "code",
      "metadata": {
        "colab": {
          "base_uri": "https://localhost:8080/"
        },
        "id": "22bW-hCdUixb",
        "outputId": "76db8a27-d987-4837-9b27-28edafcdca7d"
      },
      "source": [
        "# Verificando se os valores imputados modificam a distribuição dos dados\n",
        "plt.figure(figsize=(12,6))\n",
        "sns.kdeplot(X['km'], label='size', legend=True)\n",
        "sns.kdeplot(pd.DataFrame(X_fit)[4], label='size_inputed', legend=True)\n",
        "plt.legend();"
      ],
      "execution_count": null,
      "outputs": [
        {
          "output_type": "display_data",
          "data": {
            "image/png": "[encoded data removed]",
            "text/plain": [
              "<Figure size 864x432 with 1 Axes>"
            ]
          },
          "metadata": {}
        }
      ]
    },
    {
      "cell_type": "code",
      "metadata": {
        "colab": {
          "base_uri": "https://localhost:8080/"
        },
        "id": "WJ5t_bjIVMEE",
        "outputId": "e806577d-a0c1-4fcf-ab5a-849d593b599b"
      },
      "source": [
        "# Completando a alteração\n",
        "carros['km'] = pd.DataFrame(X_fit)[4]\n",
        "# Verificando os valores inputados\n",
        "carros.iloc[[397, 770],:]"
      ],
      "execution_count": null,
      "outputs": [
        {
          "output_type": "execute_result",
          "data": {
            "text/html": [
              "<div>\n",
              "<style scoped>\n",
              "    .dataframe tbody tr th:only-of-type {\n",
              "        vertical-align: middle;\n",
              "    }\n",
              "\n",
              "    .dataframe tbody tr th {\n",
              "        vertical-align: top;\n",
              "    }\n",
              "\n",
              "    .dataframe thead th {\n",
              "        text-align: right;\n",
              "    }\n",
              "</style>\n",
              "<table border=\"1\" class=\"dataframe\">\n",
              "  <thead>\n",
              "    <tr style=\"text-align: right;\">\n",
              "      <th></th>\n",
              "      <th>car</th>\n",
              "      <th>fabricante</th>\n",
              "      <th>motor</th>\n",
              "      <th>combustivel</th>\n",
              "      <th>automatico</th>\n",
              "      <th>ano_fabrica</th>\n",
              "      <th>ano_modelo</th>\n",
              "      <th>km</th>\n",
              "      <th>anunciante</th>\n",
              "      <th>cidade</th>\n",
              "      <th>estado</th>\n",
              "      <th>regiao</th>\n",
              "      <th>preco</th>\n",
              "    </tr>\n",
              "  </thead>\n",
              "  <tbody>\n",
              "    <tr>\n",
              "      <th>397</th>\n",
              "      <td>MITSUBISHI L200 TRITON</td>\n",
              "      <td>MITSUBISHI</td>\n",
              "      <td>2.4</td>\n",
              "      <td>DIESEL</td>\n",
              "      <td>1</td>\n",
              "      <td>2017</td>\n",
              "      <td>2017</td>\n",
              "      <td>89641.53</td>\n",
              "      <td>Loja</td>\n",
              "      <td>Casca</td>\n",
              "      <td>RS</td>\n",
              "      <td>Sul</td>\n",
              "      <td>163900.0</td>\n",
              "    </tr>\n",
              "    <tr>\n",
              "      <th>770</th>\n",
              "      <td>VOLKSWAGEN JETTA</td>\n",
              "      <td>VOLKSWAGEN</td>\n",
              "      <td>2.5</td>\n",
              "      <td>GASOLINA</td>\n",
              "      <td>1</td>\n",
              "      <td>2010</td>\n",
              "      <td>2010</td>\n",
              "      <td>114314.48</td>\n",
              "      <td>Loja</td>\n",
              "      <td>Pato Branco</td>\n",
              "      <td>PR</td>\n",
              "      <td>Sul</td>\n",
              "      <td>47900.0</td>\n",
              "    </tr>\n",
              "  </tbody>\n",
              "</table>\n",
              "</div>"
            ],
            "text/plain": [
              "                        car  fabricante  motor  ... estado  regiao     preco\n",
              "397  MITSUBISHI L200 TRITON  MITSUBISHI    2.4  ...     RS     Sul  163900.0\n",
              "770        VOLKSWAGEN JETTA  VOLKSWAGEN    2.5  ...     PR     Sul   47900.0\n",
              "\n",
              "[2 rows x 13 columns]"
            ]
          },
          "metadata": {},
          "execution_count": 58
        }
      ]
    },
    {
      "cell_type": "markdown",
      "metadata": {
        "id": "Naknv9MQuegY"
      },
      "source": [
        "## Preparação dos Dados para Modelagem"
      ]
    },
    {
      "cell_type": "markdown",
      "metadata": {
        "id": "tcTo26qSZJTt"
      },
      "source": [
        "Vamos dividir nossos dados em treino e teste."
      ]
    },
    {
      "cell_type": "code",
      "metadata": {
        "id": "YiofD92yuuz3"
      },
      "source": [
        "# Dados de entrada e variável target\n",
        "X = carros.drop(['car', 'cidade', 'estado', 'ano_modelo','preco'], axis=1)\n",
        "y = carros.preco"
      ],
      "execution_count": null,
      "outputs": []
    },
    {
      "cell_type": "code",
      "metadata": {
        "id": "GGk1_x7vZHg_"
      },
      "source": [
        "# One Hot Encoding as variáveis categóricas\n",
        "X = pd.get_dummies(X)"
      ],
      "execution_count": null,
      "outputs": []
    },
    {
      "cell_type": "code",
      "metadata": {
        "colab": {
          "base_uri": "https://localhost:8080/"
        },
        "id": "AyaxG07P_z4t",
        "outputId": "56d43b41-7c84-4d2f-ba01-3200f472630a"
      },
      "source": [
        "X.head(2)"
      ],
      "execution_count": null,
      "outputs": [
        {
          "output_type": "execute_result",
          "data": {
            "text/html": [
              "<div>\n",
              "<style scoped>\n",
              "    .dataframe tbody tr th:only-of-type {\n",
              "        vertical-align: middle;\n",
              "    }\n",
              "\n",
              "    .dataframe tbody tr th {\n",
              "        vertical-align: top;\n",
              "    }\n",
              "\n",
              "    .dataframe thead th {\n",
              "        text-align: right;\n",
              "    }\n",
              "</style>\n",
              "<table border=\"1\" class=\"dataframe\">\n",
              "  <thead>\n",
              "    <tr style=\"text-align: right;\">\n",
              "      <th></th>\n",
              "      <th>motor</th>\n",
              "      <th>automatico</th>\n",
              "      <th>ano_fabrica</th>\n",
              "      <th>km</th>\n",
              "      <th>fabricante_AUDI</th>\n",
              "      <th>fabricante_BMW</th>\n",
              "      <th>fabricante_CHERY</th>\n",
              "      <th>fabricante_CHEVROLET</th>\n",
              "      <th>fabricante_CITROEN</th>\n",
              "      <th>fabricante_DODGE</th>\n",
              "      <th>fabricante_FIAT</th>\n",
              "      <th>fabricante_FORD</th>\n",
              "      <th>fabricante_HONDA</th>\n",
              "      <th>fabricante_HYUNDAI</th>\n",
              "      <th>fabricante_JAC</th>\n",
              "      <th>fabricante_JAGUAR</th>\n",
              "      <th>fabricante_JEEP</th>\n",
              "      <th>fabricante_KIA</th>\n",
              "      <th>fabricante_LAND ROVER</th>\n",
              "      <th>fabricante_LEXUS</th>\n",
              "      <th>fabricante_LIFAN</th>\n",
              "      <th>fabricante_MERCEDES-BENZ</th>\n",
              "      <th>fabricante_MINI</th>\n",
              "      <th>fabricante_MITSUBISHI</th>\n",
              "      <th>fabricante_NISSAN</th>\n",
              "      <th>fabricante_PEUGEOT</th>\n",
              "      <th>fabricante_PORSCHE</th>\n",
              "      <th>fabricante_RENAULT</th>\n",
              "      <th>fabricante_SUZUKI</th>\n",
              "      <th>fabricante_TOYOTA</th>\n",
              "      <th>fabricante_VOLKSWAGEN</th>\n",
              "      <th>fabricante_VOLVO</th>\n",
              "      <th>combustivel_DIESEL</th>\n",
              "      <th>combustivel_FLEX</th>\n",
              "      <th>combustivel_GASOLINA</th>\n",
              "      <th>combustivel_HÍBRIDO</th>\n",
              "      <th>anunciante_Concessionária</th>\n",
              "      <th>anunciante_Loja</th>\n",
              "      <th>anunciante_Pessoa Física</th>\n",
              "      <th>regiao_Centro-Oeste</th>\n",
              "      <th>regiao_Nordeste</th>\n",
              "      <th>regiao_Norte</th>\n",
              "      <th>regiao_Sudeste</th>\n",
              "      <th>regiao_Sul</th>\n",
              "    </tr>\n",
              "  </thead>\n",
              "  <tbody>\n",
              "    <tr>\n",
              "      <th>0</th>\n",
              "      <td>3.0</td>\n",
              "      <td>1</td>\n",
              "      <td>2017</td>\n",
              "      <td>87940.0</td>\n",
              "      <td>0</td>\n",
              "      <td>0</td>\n",
              "      <td>0</td>\n",
              "      <td>0</td>\n",
              "      <td>0</td>\n",
              "      <td>0</td>\n",
              "      <td>0</td>\n",
              "      <td>0</td>\n",
              "      <td>0</td>\n",
              "      <td>0</td>\n",
              "      <td>0</td>\n",
              "      <td>0</td>\n",
              "      <td>0</td>\n",
              "      <td>0</td>\n",
              "      <td>0</td>\n",
              "      <td>0</td>\n",
              "      <td>0</td>\n",
              "      <td>1</td>\n",
              "      <td>0</td>\n",
              "      <td>0</td>\n",
              "      <td>0</td>\n",
              "      <td>0</td>\n",
              "      <td>0</td>\n",
              "      <td>0</td>\n",
              "      <td>0</td>\n",
              "      <td>0</td>\n",
              "      <td>0</td>\n",
              "      <td>0</td>\n",
              "      <td>1</td>\n",
              "      <td>0</td>\n",
              "      <td>0</td>\n",
              "      <td>0</td>\n",
              "      <td>1</td>\n",
              "      <td>0</td>\n",
              "      <td>0</td>\n",
              "      <td>0</td>\n",
              "      <td>0</td>\n",
              "      <td>0</td>\n",
              "      <td>1</td>\n",
              "      <td>0</td>\n",
              "    </tr>\n",
              "    <tr>\n",
              "      <th>1</th>\n",
              "      <td>1.4</td>\n",
              "      <td>1</td>\n",
              "      <td>2016</td>\n",
              "      <td>40524.0</td>\n",
              "      <td>1</td>\n",
              "      <td>0</td>\n",
              "      <td>0</td>\n",
              "      <td>0</td>\n",
              "      <td>0</td>\n",
              "      <td>0</td>\n",
              "      <td>0</td>\n",
              "      <td>0</td>\n",
              "      <td>0</td>\n",
              "      <td>0</td>\n",
              "      <td>0</td>\n",
              "      <td>0</td>\n",
              "      <td>0</td>\n",
              "      <td>0</td>\n",
              "      <td>0</td>\n",
              "      <td>0</td>\n",
              "      <td>0</td>\n",
              "      <td>0</td>\n",
              "      <td>0</td>\n",
              "      <td>0</td>\n",
              "      <td>0</td>\n",
              "      <td>0</td>\n",
              "      <td>0</td>\n",
              "      <td>0</td>\n",
              "      <td>0</td>\n",
              "      <td>0</td>\n",
              "      <td>0</td>\n",
              "      <td>0</td>\n",
              "      <td>0</td>\n",
              "      <td>0</td>\n",
              "      <td>1</td>\n",
              "      <td>0</td>\n",
              "      <td>1</td>\n",
              "      <td>0</td>\n",
              "      <td>0</td>\n",
              "      <td>0</td>\n",
              "      <td>0</td>\n",
              "      <td>0</td>\n",
              "      <td>1</td>\n",
              "      <td>0</td>\n",
              "    </tr>\n",
              "  </tbody>\n",
              "</table>\n",
              "</div>"
            ],
            "text/plain": [
              "   motor  automatico  ano_fabrica  ...  regiao_Norte  regiao_Sudeste  regiao_Sul\n",
              "0    3.0           1         2017  ...             0               1           0\n",
              "1    1.4           1         2016  ...             0               1           0\n",
              "\n",
              "[2 rows x 44 columns]"
            ]
          },
          "metadata": {},
          "execution_count": 61
        }
      ]
    },
    {
      "cell_type": "markdown",
      "metadata": {
        "id": "22Yjy9w1gmv0"
      },
      "source": [
        "Temos um dataset pequeno, com pouco mais de mil observações, logo vamos separar apenas 10% para teste."
      ]
    },
    {
      "cell_type": "code",
      "metadata": {
        "id": "IgKxmoR6glsX"
      },
      "source": [
        "# Train Test Split\n",
        "X_train, X_test, y_train, y_test = train_test_split(X, y, test_size=0.1, random_state=12)"
      ],
      "execution_count": null,
      "outputs": []
    },
    {
      "cell_type": "code",
      "metadata": {
        "colab": {
          "base_uri": "https://localhost:8080/"
        },
        "id": "nHIGYgaZhWOl",
        "outputId": "2b538645-1f66-40b6-ec58-138688e84fb3"
      },
      "source": [
        "print(f'Shape Treino: {X_train.shape, y_train.shape} | Shape Teste: {X_test.shape, y_test.shape}')"
      ],
      "execution_count": null,
      "outputs": [
        {
          "output_type": "stream",
          "text": [
            "Shape Treino: ((1212, 44), (1212,)) | Shape Teste: ((135, 44), (135,))\n"
          ],
          "name": "stdout"
        }
      ]
    },
    {
      "cell_type": "code",
      "metadata": {
        "colab": {
          "base_uri": "https://localhost:8080/"
        },
        "id": "GzE0P_V4h-3a",
        "outputId": "8cbc611a-c112-4946-ec7f-4a48af0c93af"
      },
      "source": [
        "# Criando um modelo Dummy, para comparação\n",
        "dummy_model = DummyRegressor(strategy='mean')\n",
        "# Treina modelo\n",
        "dummy_model.fit(X_train, y_train)\n",
        "pred = dummy_model.predict(X_test)\n",
        "# Avalia\n",
        "print( f' Score: {dummy_model.score(X_test,y_test)} \\n' )\n",
        "\n",
        "pd.DataFrame({'y':y_test,'Previsoes':pred}).head(5)"
      ],
      "execution_count": null,
      "outputs": [
        {
          "output_type": "stream",
          "text": [
            " Score: -0.0019686159751031163 \n",
            "\n"
          ],
          "name": "stdout"
        },
        {
          "output_type": "execute_result",
          "data": {
            "text/html": [
              "<div>\n",
              "<style scoped>\n",
              "    .dataframe tbody tr th:only-of-type {\n",
              "        vertical-align: middle;\n",
              "    }\n",
              "\n",
              "    .dataframe tbody tr th {\n",
              "        vertical-align: top;\n",
              "    }\n",
              "\n",
              "    .dataframe thead th {\n",
              "        text-align: right;\n",
              "    }\n",
              "</style>\n",
              "<table border=\"1\" class=\"dataframe\">\n",
              "  <thead>\n",
              "    <tr style=\"text-align: right;\">\n",
              "      <th></th>\n",
              "      <th>y</th>\n",
              "      <th>Previsoes</th>\n",
              "    </tr>\n",
              "  </thead>\n",
              "  <tbody>\n",
              "    <tr>\n",
              "      <th>870</th>\n",
              "      <td>42000.0</td>\n",
              "      <td>125521.941419</td>\n",
              "    </tr>\n",
              "    <tr>\n",
              "      <th>1187</th>\n",
              "      <td>48990.0</td>\n",
              "      <td>125521.941419</td>\n",
              "    </tr>\n",
              "    <tr>\n",
              "      <th>10</th>\n",
              "      <td>479900.0</td>\n",
              "      <td>125521.941419</td>\n",
              "    </tr>\n",
              "    <tr>\n",
              "      <th>346</th>\n",
              "      <td>92800.0</td>\n",
              "      <td>125521.941419</td>\n",
              "    </tr>\n",
              "    <tr>\n",
              "      <th>400</th>\n",
              "      <td>458800.0</td>\n",
              "      <td>125521.941419</td>\n",
              "    </tr>\n",
              "  </tbody>\n",
              "</table>\n",
              "</div>"
            ],
            "text/plain": [
              "             y      Previsoes\n",
              "870    42000.0  125521.941419\n",
              "1187   48990.0  125521.941419\n",
              "10    479900.0  125521.941419\n",
              "346    92800.0  125521.941419\n",
              "400   458800.0  125521.941419"
            ]
          },
          "metadata": {},
          "execution_count": 64
        }
      ]
    },
    {
      "cell_type": "markdown",
      "metadata": {
        "id": "14Yn3CuUuJNC"
      },
      "source": [
        "## Modelos Preliminares e Escolha de Atributos"
      ]
    },
    {
      "cell_type": "markdown",
      "metadata": {
        "id": "KC5qybPdmIJu"
      },
      "source": [
        "Para selecionar as melhore variáveis, um do modos de escolher as melhores variáveis é usar o próprio modelo de Regressão Linear e verificar o p-value do resultado."
      ]
    },
    {
      "cell_type": "code",
      "metadata": {
        "id": "DVXSMM4jnVlf"
      },
      "source": [
        "# Função para criar sumário de Regressão\n",
        "import sklearn.metrics as metrics\n",
        "def regression_results(y_true, y_pred):\n",
        "\n",
        "    # Métricas de regressão\n",
        "    explained_variance=metrics.explained_variance_score(y_true, y_pred)\n",
        "    mean_absolute_error=metrics.mean_absolute_error(y_true, y_pred) \n",
        "    mse=metrics.mean_squared_error(y_true, y_pred) \n",
        "    r2=metrics.r2_score(y_true, y_pred)\n",
        "\n",
        "    print('explained_variance: ', round(explained_variance,4))    \n",
        "    print('r2: ', round(r2,4))\n",
        "    print('MAE: ', round(mean_absolute_error,4))\n",
        "    print('MSE: ', round(mse,4))\n",
        "    print('RMSE: ', round(np.sqrt(mse),4))\n",
        "\n",
        "    return [r2, mean_absolute_error, np.sqrt(mse)]"
      ],
      "execution_count": null,
      "outputs": []
    },
    {
      "cell_type": "code",
      "metadata": {
        "colab": {
          "base_uri": "https://localhost:8080/"
        },
        "id": "ScTnfhS6udJZ",
        "outputId": "fe21b230-01be-49b1-ba57-1de0c9c92fc8"
      },
      "source": [
        "# Criando um modelo de Regressão\n",
        "lr = sm.OLS(y_train, X_train)\n",
        "\n",
        "#Fit\n",
        "result = lr.fit()\n",
        "\n",
        "# Previsões\n",
        "pred_regressao1 = result.predict(X_test)\n",
        "\n",
        "# Resultado\n",
        "result.summary()"
      ],
      "execution_count": null,
      "outputs": [
        {
          "output_type": "execute_result",
          "data": {
            "text/html": [
              "<table class=\"simpletable\">\n",
              "<caption>OLS Regression Results</caption>\n",
              "<tr>\n",
              "  <th>Dep. Variable:</th>          <td>preco</td>      <th>  R-squared:         </th> <td>   0.834</td> \n",
              "</tr>\n",
              "<tr>\n",
              "  <th>Model:</th>                   <td>OLS</td>       <th>  Adj. R-squared:    </th> <td>   0.829</td> \n",
              "</tr>\n",
              "<tr>\n",
              "  <th>Method:</th>             <td>Least Squares</td>  <th>  F-statistic:       </th> <td>   151.1</td> \n",
              "</tr>\n",
              "<tr>\n",
              "  <th>Date:</th>             <td>Tue, 31 Aug 2021</td> <th>  Prob (F-statistic):</th>  <td>  0.00</td>  \n",
              "</tr>\n",
              "<tr>\n",
              "  <th>Time:</th>                 <td>13:44:16</td>     <th>  Log-Likelihood:    </th> <td> -14927.</td> \n",
              "</tr>\n",
              "<tr>\n",
              "  <th>No. Observations:</th>      <td>  1212</td>      <th>  AIC:               </th> <td>2.993e+04</td>\n",
              "</tr>\n",
              "<tr>\n",
              "  <th>Df Residuals:</th>          <td>  1172</td>      <th>  BIC:               </th> <td>3.014e+04</td>\n",
              "</tr>\n",
              "<tr>\n",
              "  <th>Df Model:</th>              <td>    39</td>      <th>                     </th>     <td> </td>    \n",
              "</tr>\n",
              "<tr>\n",
              "  <th>Covariance Type:</th>      <td>nonrobust</td>    <th>                     </th>     <td> </td>    \n",
              "</tr>\n",
              "</table>\n",
              "<table class=\"simpletable\">\n",
              "<tr>\n",
              "              <td></td>                 <th>coef</th>     <th>std err</th>      <th>t</th>      <th>P>|t|</th>  <th>[0.025</th>    <th>0.975]</th>  \n",
              "</tr>\n",
              "<tr>\n",
              "  <th>motor</th>                     <td> 1.129e+05</td> <td> 4080.481</td> <td>   27.670</td> <td> 0.000</td> <td> 1.05e+05</td> <td> 1.21e+05</td>\n",
              "</tr>\n",
              "<tr>\n",
              "  <th>automatico</th>                <td> -1.63e+04</td> <td> 4470.990</td> <td>   -3.647</td> <td> 0.000</td> <td>-2.51e+04</td> <td>-7531.645</td>\n",
              "</tr>\n",
              "<tr>\n",
              "  <th>ano_fabrica</th>               <td> 1.274e+04</td> <td> 1072.655</td> <td>   11.875</td> <td> 0.000</td> <td> 1.06e+04</td> <td> 1.48e+04</td>\n",
              "</tr>\n",
              "<tr>\n",
              "  <th>km</th>                        <td>   -0.2330</td> <td>    0.071</td> <td>   -3.281</td> <td> 0.001</td> <td>   -0.372</td> <td>   -0.094</td>\n",
              "</tr>\n",
              "<tr>\n",
              "  <th>fabricante_AUDI</th>           <td>-1.065e+06</td> <td> 9.89e+04</td> <td>  -10.763</td> <td> 0.000</td> <td>-1.26e+06</td> <td>-8.71e+05</td>\n",
              "</tr>\n",
              "<tr>\n",
              "  <th>fabricante_BMW</th>            <td>-1.075e+06</td> <td> 9.87e+04</td> <td>  -10.896</td> <td> 0.000</td> <td>-1.27e+06</td> <td>-8.82e+05</td>\n",
              "</tr>\n",
              "<tr>\n",
              "  <th>fabricante_CHERY</th>          <td>-1.175e+06</td> <td> 9.97e+04</td> <td>  -11.782</td> <td> 0.000</td> <td>-1.37e+06</td> <td>-9.79e+05</td>\n",
              "</tr>\n",
              "<tr>\n",
              "  <th>fabricante_CHEVROLET</th>      <td>-1.173e+06</td> <td> 9.85e+04</td> <td>  -11.908</td> <td> 0.000</td> <td>-1.37e+06</td> <td> -9.8e+05</td>\n",
              "</tr>\n",
              "<tr>\n",
              "  <th>fabricante_CITROEN</th>        <td>-1.183e+06</td> <td> 9.66e+04</td> <td>  -12.246</td> <td> 0.000</td> <td>-1.37e+06</td> <td>-9.94e+05</td>\n",
              "</tr>\n",
              "<tr>\n",
              "  <th>fabricante_DODGE</th>          <td>-1.409e+06</td> <td> 1.02e+05</td> <td>  -13.773</td> <td> 0.000</td> <td>-1.61e+06</td> <td>-1.21e+06</td>\n",
              "</tr>\n",
              "<tr>\n",
              "  <th>fabricante_FIAT</th>           <td>-1.192e+06</td> <td> 9.85e+04</td> <td>  -12.106</td> <td> 0.000</td> <td>-1.39e+06</td> <td>-9.99e+05</td>\n",
              "</tr>\n",
              "<tr>\n",
              "  <th>fabricante_FORD</th>           <td>-1.188e+06</td> <td> 9.82e+04</td> <td>  -12.103</td> <td> 0.000</td> <td>-1.38e+06</td> <td>-9.95e+05</td>\n",
              "</tr>\n",
              "<tr>\n",
              "  <th>fabricante_HONDA</th>          <td>-1.162e+06</td> <td> 9.77e+04</td> <td>  -11.895</td> <td> 0.000</td> <td>-1.35e+06</td> <td> -9.7e+05</td>\n",
              "</tr>\n",
              "<tr>\n",
              "  <th>fabricante_HYUNDAI</th>        <td>-1.199e+06</td> <td> 9.83e+04</td> <td>  -12.197</td> <td> 0.000</td> <td>-1.39e+06</td> <td>-1.01e+06</td>\n",
              "</tr>\n",
              "<tr>\n",
              "  <th>fabricante_JAC</th>            <td>-1.193e+06</td> <td> 1.02e+05</td> <td>  -11.742</td> <td> 0.000</td> <td>-1.39e+06</td> <td>-9.94e+05</td>\n",
              "</tr>\n",
              "<tr>\n",
              "  <th>fabricante_JAGUAR</th>         <td>-1.088e+06</td> <td> 1.02e+05</td> <td>  -10.704</td> <td> 0.000</td> <td>-1.29e+06</td> <td>-8.89e+05</td>\n",
              "</tr>\n",
              "<tr>\n",
              "  <th>fabricante_JEEP</th>           <td>-1.199e+06</td> <td> 9.83e+04</td> <td>  -12.201</td> <td> 0.000</td> <td>-1.39e+06</td> <td>-1.01e+06</td>\n",
              "</tr>\n",
              "<tr>\n",
              "  <th>fabricante_KIA</th>            <td>-1.232e+06</td> <td> 9.88e+04</td> <td>  -12.469</td> <td> 0.000</td> <td>-1.43e+06</td> <td>-1.04e+06</td>\n",
              "</tr>\n",
              "<tr>\n",
              "  <th>fabricante_LAND ROVER</th>     <td>-9.565e+05</td> <td> 9.86e+04</td> <td>   -9.704</td> <td> 0.000</td> <td>-1.15e+06</td> <td>-7.63e+05</td>\n",
              "</tr>\n",
              "<tr>\n",
              "  <th>fabricante_LEXUS</th>          <td>-1.324e+06</td> <td> 1.05e+05</td> <td>  -12.598</td> <td> 0.000</td> <td>-1.53e+06</td> <td>-1.12e+06</td>\n",
              "</tr>\n",
              "<tr>\n",
              "  <th>fabricante_LIFAN</th>          <td>-1.978e-08</td> <td> 3.57e-09</td> <td>   -5.544</td> <td> 0.000</td> <td>-2.68e-08</td> <td>-1.28e-08</td>\n",
              "</tr>\n",
              "<tr>\n",
              "  <th>fabricante_MERCEDES-BENZ</th>  <td>-1.038e+06</td> <td> 9.86e+04</td> <td>  -10.524</td> <td> 0.000</td> <td>-1.23e+06</td> <td>-8.45e+05</td>\n",
              "</tr>\n",
              "<tr>\n",
              "  <th>fabricante_MINI</th>           <td>-1.151e+06</td> <td> 1.04e+05</td> <td>  -11.049</td> <td> 0.000</td> <td>-1.36e+06</td> <td>-9.47e+05</td>\n",
              "</tr>\n",
              "<tr>\n",
              "  <th>fabricante_MITSUBISHI</th>     <td>-1.178e+06</td> <td> 9.96e+04</td> <td>  -11.821</td> <td> 0.000</td> <td>-1.37e+06</td> <td>-9.82e+05</td>\n",
              "</tr>\n",
              "<tr>\n",
              "  <th>fabricante_NISSAN</th>         <td> -1.18e+06</td> <td> 9.76e+04</td> <td>  -12.083</td> <td> 0.000</td> <td>-1.37e+06</td> <td>-9.88e+05</td>\n",
              "</tr>\n",
              "<tr>\n",
              "  <th>fabricante_PEUGEOT</th>        <td>-1.198e+06</td> <td>  9.9e+04</td> <td>  -12.095</td> <td> 0.000</td> <td>-1.39e+06</td> <td>   -1e+06</td>\n",
              "</tr>\n",
              "<tr>\n",
              "  <th>fabricante_PORSCHE</th>        <td>-8.898e+05</td> <td> 1.01e+05</td> <td>   -8.848</td> <td> 0.000</td> <td>-1.09e+06</td> <td>-6.93e+05</td>\n",
              "</tr>\n",
              "<tr>\n",
              "  <th>fabricante_RENAULT</th>        <td>-1.196e+06</td> <td> 9.84e+04</td> <td>  -12.153</td> <td> 0.000</td> <td>-1.39e+06</td> <td>   -1e+06</td>\n",
              "</tr>\n",
              "<tr>\n",
              "  <th>fabricante_SUZUKI</th>         <td>-1.163e+06</td> <td>    1e+05</td> <td>  -11.623</td> <td> 0.000</td> <td>-1.36e+06</td> <td>-9.66e+05</td>\n",
              "</tr>\n",
              "<tr>\n",
              "  <th>fabricante_TOYOTA</th>         <td>-1.203e+06</td> <td> 9.89e+04</td> <td>  -12.154</td> <td> 0.000</td> <td> -1.4e+06</td> <td>-1.01e+06</td>\n",
              "</tr>\n",
              "<tr>\n",
              "  <th>fabricante_VOLKSWAGEN</th>     <td>-1.161e+06</td> <td> 9.84e+04</td> <td>  -11.804</td> <td> 0.000</td> <td>-1.35e+06</td> <td>-9.68e+05</td>\n",
              "</tr>\n",
              "<tr>\n",
              "  <th>fabricante_VOLVO</th>          <td> -1.15e+06</td> <td> 9.95e+04</td> <td>  -11.564</td> <td> 0.000</td> <td>-1.35e+06</td> <td>-9.55e+05</td>\n",
              "</tr>\n",
              "<tr>\n",
              "  <th>combustivel_DIESEL</th>        <td>-7.885e+06</td> <td> 6.62e+05</td> <td>  -11.919</td> <td> 0.000</td> <td>-9.18e+06</td> <td>-6.59e+06</td>\n",
              "</tr>\n",
              "<tr>\n",
              "  <th>combustivel_FLEX</th>          <td>-7.884e+06</td> <td>  6.6e+05</td> <td>  -11.939</td> <td> 0.000</td> <td>-9.18e+06</td> <td>-6.59e+06</td>\n",
              "</tr>\n",
              "<tr>\n",
              "  <th>combustivel_GASOLINA</th>      <td>-7.866e+06</td> <td>  6.6e+05</td> <td>  -11.920</td> <td> 0.000</td> <td>-9.16e+06</td> <td>-6.57e+06</td>\n",
              "</tr>\n",
              "<tr>\n",
              "  <th>combustivel_HÍBRIDO</th>       <td>-7.687e+06</td> <td> 6.61e+05</td> <td>  -11.626</td> <td> 0.000</td> <td>-8.98e+06</td> <td>-6.39e+06</td>\n",
              "</tr>\n",
              "<tr>\n",
              "  <th>anunciante_Concessionária</th> <td>-1.045e+07</td> <td> 8.81e+05</td> <td>  -11.859</td> <td> 0.000</td> <td>-1.22e+07</td> <td>-8.72e+06</td>\n",
              "</tr>\n",
              "<tr>\n",
              "  <th>anunciante_Loja</th>           <td>-1.044e+07</td> <td> 8.81e+05</td> <td>  -11.850</td> <td> 0.000</td> <td>-1.22e+07</td> <td>-8.71e+06</td>\n",
              "</tr>\n",
              "<tr>\n",
              "  <th>anunciante_Pessoa Física</th>  <td>-1.043e+07</td> <td>  8.8e+05</td> <td>  -11.846</td> <td> 0.000</td> <td>-1.22e+07</td> <td> -8.7e+06</td>\n",
              "</tr>\n",
              "<tr>\n",
              "  <th>regiao_Centro-Oeste</th>       <td>-6.249e+06</td> <td> 5.29e+05</td> <td>  -11.816</td> <td> 0.000</td> <td>-7.29e+06</td> <td>-5.21e+06</td>\n",
              "</tr>\n",
              "<tr>\n",
              "  <th>regiao_Nordeste</th>           <td>-6.272e+06</td> <td> 5.28e+05</td> <td>  -11.871</td> <td> 0.000</td> <td>-7.31e+06</td> <td>-5.24e+06</td>\n",
              "</tr>\n",
              "<tr>\n",
              "  <th>regiao_Norte</th>              <td>-6.273e+06</td> <td> 5.29e+05</td> <td>  -11.868</td> <td> 0.000</td> <td>-7.31e+06</td> <td>-5.24e+06</td>\n",
              "</tr>\n",
              "<tr>\n",
              "  <th>regiao_Sudeste</th>            <td>-6.267e+06</td> <td> 5.29e+05</td> <td>  -11.856</td> <td> 0.000</td> <td> -7.3e+06</td> <td>-5.23e+06</td>\n",
              "</tr>\n",
              "<tr>\n",
              "  <th>regiao_Sul</th>                <td> -6.26e+06</td> <td> 5.29e+05</td> <td>  -11.842</td> <td> 0.000</td> <td> -7.3e+06</td> <td>-5.22e+06</td>\n",
              "</tr>\n",
              "</table>\n",
              "<table class=\"simpletable\">\n",
              "<tr>\n",
              "  <th>Omnibus:</th>       <td>941.181</td> <th>  Durbin-Watson:     </th> <td>   2.015</td> \n",
              "</tr>\n",
              "<tr>\n",
              "  <th>Prob(Omnibus):</th> <td> 0.000</td>  <th>  Jarque-Bera (JB):  </th> <td>60325.038</td>\n",
              "</tr>\n",
              "<tr>\n",
              "  <th>Skew:</th>          <td> 3.024</td>  <th>  Prob(JB):          </th> <td>    0.00</td> \n",
              "</tr>\n",
              "<tr>\n",
              "  <th>Kurtosis:</th>      <td>37.029</td>  <th>  Cond. No.          </th> <td>1.34e+16</td> \n",
              "</tr>\n",
              "</table><br/><br/>Warnings:<br/>[1] Standard Errors assume that the covariance matrix of the errors is correctly specified.<br/>[2] The smallest eigenvalue is 2.08e-20. This might indicate that there are<br/>strong multicollinearity problems or that the design matrix is singular."
            ],
            "text/plain": [
              "<class 'statsmodels.iolib.summary.Summary'>\n",
              "\"\"\"\n",
              "                            OLS Regression Results                            \n",
              "==============================================================================\n",
              "Dep. Variable:                  preco   R-squared:                       0.834\n",
              "Model:                            OLS   Adj. R-squared:                  0.829\n",
              "Method:                 Least Squares   F-statistic:                     151.1\n",
              "Date:                Tue, 31 Aug 2021   Prob (F-statistic):               0.00\n",
              "Time:                        13:44:16   Log-Likelihood:                -14927.\n",
              "No. Observations:                1212   AIC:                         2.993e+04\n",
              "Df Residuals:                    1172   BIC:                         3.014e+04\n",
              "Df Model:                          39                                         \n",
              "Covariance Type:            nonrobust                                         \n",
              "=============================================================================================\n",
              "                                coef    std err          t      P>|t|      [0.025      0.975]\n",
              "---------------------------------------------------------------------------------------------\n",
              "motor                      1.129e+05   4080.481     27.670      0.000    1.05e+05    1.21e+05\n",
              "automatico                 -1.63e+04   4470.990     -3.647      0.000   -2.51e+04   -7531.645\n",
              "ano_fabrica                1.274e+04   1072.655     11.875      0.000    1.06e+04    1.48e+04\n",
              "km                           -0.2330      0.071     -3.281      0.001      -0.372      -0.094\n",
              "fabricante_AUDI           -1.065e+06   9.89e+04    -10.763      0.000   -1.26e+06   -8.71e+05\n",
              "fabricante_BMW            -1.075e+06   9.87e+04    -10.896      0.000   -1.27e+06   -8.82e+05\n",
              "fabricante_CHERY          -1.175e+06   9.97e+04    -11.782      0.000   -1.37e+06   -9.79e+05\n",
              "fabricante_CHEVROLET      -1.173e+06   9.85e+04    -11.908      0.000   -1.37e+06    -9.8e+05\n",
              "fabricante_CITROEN        -1.183e+06   9.66e+04    -12.246      0.000   -1.37e+06   -9.94e+05\n",
              "fabricante_DODGE          -1.409e+06   1.02e+05    -13.773      0.000   -1.61e+06   -1.21e+06\n",
              "fabricante_FIAT           -1.192e+06   9.85e+04    -12.106      0.000   -1.39e+06   -9.99e+05\n",
              "fabricante_FORD           -1.188e+06   9.82e+04    -12.103      0.000   -1.38e+06   -9.95e+05\n",
              "fabricante_HONDA          -1.162e+06   9.77e+04    -11.895      0.000   -1.35e+06    -9.7e+05\n",
              "fabricante_HYUNDAI        -1.199e+06   9.83e+04    -12.197      0.000   -1.39e+06   -1.01e+06\n",
              "fabricante_JAC            -1.193e+06   1.02e+05    -11.742      0.000   -1.39e+06   -9.94e+05\n",
              "fabricante_JAGUAR         -1.088e+06   1.02e+05    -10.704      0.000   -1.29e+06   -8.89e+05\n",
              "fabricante_JEEP           -1.199e+06   9.83e+04    -12.201      0.000   -1.39e+06   -1.01e+06\n",
              "fabricante_KIA            -1.232e+06   9.88e+04    -12.469      0.000   -1.43e+06   -1.04e+06\n",
              "fabricante_LAND ROVER     -9.565e+05   9.86e+04     -9.704      0.000   -1.15e+06   -7.63e+05\n",
              "fabricante_LEXUS          -1.324e+06   1.05e+05    -12.598      0.000   -1.53e+06   -1.12e+06\n",
              "fabricante_LIFAN          -1.978e-08   3.57e-09     -5.544      0.000   -2.68e-08   -1.28e-08\n",
              "fabricante_MERCEDES-BENZ  -1.038e+06   9.86e+04    -10.524      0.000   -1.23e+06   -8.45e+05\n",
              "fabricante_MINI           -1.151e+06   1.04e+05    -11.049      0.000   -1.36e+06   -9.47e+05\n",
              "fabricante_MITSUBISHI     -1.178e+06   9.96e+04    -11.821      0.000   -1.37e+06   -9.82e+05\n",
              "fabricante_NISSAN          -1.18e+06   9.76e+04    -12.083      0.000   -1.37e+06   -9.88e+05\n",
              "fabricante_PEUGEOT        -1.198e+06    9.9e+04    -12.095      0.000   -1.39e+06      -1e+06\n",
              "fabricante_PORSCHE        -8.898e+05   1.01e+05     -8.848      0.000   -1.09e+06   -6.93e+05\n",
              "fabricante_RENAULT        -1.196e+06   9.84e+04    -12.153      0.000   -1.39e+06      -1e+06\n",
              "fabricante_SUZUKI         -1.163e+06      1e+05    -11.623      0.000   -1.36e+06   -9.66e+05\n",
              "fabricante_TOYOTA         -1.203e+06   9.89e+04    -12.154      0.000    -1.4e+06   -1.01e+06\n",
              "fabricante_VOLKSWAGEN     -1.161e+06   9.84e+04    -11.804      0.000   -1.35e+06   -9.68e+05\n",
              "fabricante_VOLVO           -1.15e+06   9.95e+04    -11.564      0.000   -1.35e+06   -9.55e+05\n",
              "combustivel_DIESEL        -7.885e+06   6.62e+05    -11.919      0.000   -9.18e+06   -6.59e+06\n",
              "combustivel_FLEX          -7.884e+06    6.6e+05    -11.939      0.000   -9.18e+06   -6.59e+06\n",
              "combustivel_GASOLINA      -7.866e+06    6.6e+05    -11.920      0.000   -9.16e+06   -6.57e+06\n",
              "combustivel_HÍBRIDO       -7.687e+06   6.61e+05    -11.626      0.000   -8.98e+06   -6.39e+06\n",
              "anunciante_Concessionária -1.045e+07   8.81e+05    -11.859      0.000   -1.22e+07   -8.72e+06\n",
              "anunciante_Loja           -1.044e+07   8.81e+05    -11.850      0.000   -1.22e+07   -8.71e+06\n",
              "anunciante_Pessoa Física  -1.043e+07    8.8e+05    -11.846      0.000   -1.22e+07    -8.7e+06\n",
              "regiao_Centro-Oeste       -6.249e+06   5.29e+05    -11.816      0.000   -7.29e+06   -5.21e+06\n",
              "regiao_Nordeste           -6.272e+06   5.28e+05    -11.871      0.000   -7.31e+06   -5.24e+06\n",
              "regiao_Norte              -6.273e+06   5.29e+05    -11.868      0.000   -7.31e+06   -5.24e+06\n",
              "regiao_Sudeste            -6.267e+06   5.29e+05    -11.856      0.000    -7.3e+06   -5.23e+06\n",
              "regiao_Sul                 -6.26e+06   5.29e+05    -11.842      0.000    -7.3e+06   -5.22e+06\n",
              "==============================================================================\n",
              "Omnibus:                      941.181   Durbin-Watson:                   2.015\n",
              "Prob(Omnibus):                  0.000   Jarque-Bera (JB):            60325.038\n",
              "Skew:                           3.024   Prob(JB):                         0.00\n",
              "Kurtosis:                      37.029   Cond. No.                     1.34e+16\n",
              "==============================================================================\n",
              "\n",
              "Warnings:\n",
              "[1] Standard Errors assume that the covariance matrix of the errors is correctly specified.\n",
              "[2] The smallest eigenvalue is 2.08e-20. This might indicate that there are\n",
              "strong multicollinearity problems or that the design matrix is singular.\n",
              "\"\"\""
            ]
          },
          "metadata": {},
          "execution_count": 128
        }
      ]
    },
    {
      "cell_type": "markdown",
      "metadata": {
        "id": "SZTXNQilqr6-"
      },
      "source": [
        "O valor de R2 foi de 83%, um resultado interessante. Os valores de P iguais a zero mostram que o modelo usou todas as variáveis."
      ]
    },
    {
      "cell_type": "code",
      "metadata": {
        "colab": {
          "base_uri": "https://localhost:8080/"
        },
        "id": "4CESbkDubZft",
        "outputId": "28d8fdd3-68f8-45f2-a342-f47502efce07"
      },
      "source": [
        "X.shape"
      ],
      "execution_count": null,
      "outputs": [
        {
          "output_type": "execute_result",
          "data": {
            "text/plain": [
              "(1347, 44)"
            ]
          },
          "metadata": {},
          "execution_count": 112
        }
      ]
    },
    {
      "cell_type": "code",
      "metadata": {
        "colab": {
          "base_uri": "https://localhost:8080/"
        },
        "id": "H0TBwAolZ0vd",
        "outputId": "4a16deab-8bf7-459c-a5eb-5e24c6d64b1b"
      },
      "source": [
        "# 5 Previsões\n",
        "pd.DataFrame({'y':y_test, 'Pred': pred_regressao1}).head(5)"
      ],
      "execution_count": null,
      "outputs": [
        {
          "output_type": "execute_result",
          "data": {
            "text/html": [
              "<div>\n",
              "<style scoped>\n",
              "    .dataframe tbody tr th:only-of-type {\n",
              "        vertical-align: middle;\n",
              "    }\n",
              "\n",
              "    .dataframe tbody tr th {\n",
              "        vertical-align: top;\n",
              "    }\n",
              "\n",
              "    .dataframe thead th {\n",
              "        text-align: right;\n",
              "    }\n",
              "</style>\n",
              "<table border=\"1\" class=\"dataframe\">\n",
              "  <thead>\n",
              "    <tr style=\"text-align: right;\">\n",
              "      <th></th>\n",
              "      <th>y</th>\n",
              "      <th>Pred</th>\n",
              "    </tr>\n",
              "  </thead>\n",
              "  <tbody>\n",
              "    <tr>\n",
              "      <th>870</th>\n",
              "      <td>42000.0</td>\n",
              "      <td>37975.114719</td>\n",
              "    </tr>\n",
              "    <tr>\n",
              "      <th>1187</th>\n",
              "      <td>48990.0</td>\n",
              "      <td>21560.414025</td>\n",
              "    </tr>\n",
              "    <tr>\n",
              "      <th>10</th>\n",
              "      <td>479900.0</td>\n",
              "      <td>474757.470218</td>\n",
              "    </tr>\n",
              "    <tr>\n",
              "      <th>346</th>\n",
              "      <td>92800.0</td>\n",
              "      <td>66305.789525</td>\n",
              "    </tr>\n",
              "    <tr>\n",
              "      <th>400</th>\n",
              "      <td>458800.0</td>\n",
              "      <td>468653.050502</td>\n",
              "    </tr>\n",
              "  </tbody>\n",
              "</table>\n",
              "</div>"
            ],
            "text/plain": [
              "             y           Pred\n",
              "870    42000.0   37975.114719\n",
              "1187   48990.0   21560.414025\n",
              "10    479900.0  474757.470218\n",
              "346    92800.0   66305.789525\n",
              "400   458800.0  468653.050502"
            ]
          },
          "metadata": {},
          "execution_count": 108
        }
      ]
    },
    {
      "cell_type": "code",
      "metadata": {
        "colab": {
          "base_uri": "https://localhost:8080/"
        },
        "id": "q421ahIdwzQ5",
        "outputId": "8039c9e6-6ffb-426e-a640-64dc8bc3598f"
      },
      "source": [
        "# Resultados\n",
        "resultados1 = regression_results(y_test, pred_regressao1)\n",
        "resultados1"
      ],
      "execution_count": null,
      "outputs": [
        {
          "output_type": "stream",
          "text": [
            "explained_variance:  -0.4507\n",
            "r2:  -0.4656\n",
            "MAE:  38800.316\n",
            "MSE:  13899552631.8627\n",
            "RMSE:  117896.3639\n"
          ],
          "name": "stdout"
        },
        {
          "output_type": "execute_result",
          "data": {
            "text/plain": [
              "[-0.46564032744396067, 38800.31601342586, 117896.36394674217]"
            ]
          },
          "metadata": {},
          "execution_count": 67
        }
      ]
    },
    {
      "cell_type": "code",
      "metadata": {
        "colab": {
          "base_uri": "https://localhost:8080/"
        },
        "id": "utmGYpkTa-a9",
        "outputId": "4d74b480-9372-4d43-b65c-44509cde57cf"
      },
      "source": [
        "# Variáveis mais importantes\n",
        "from sklearn.feature_selection import SelectKBest\n",
        "from sklearn.feature_selection import f_regression\n",
        "fs = SelectKBest(score_func=f_regression, k=20)\n",
        "X_selected = fs.fit_transform(X, y)\n",
        "X.columns[fs.get_support(indices=True)]"
      ],
      "execution_count": null,
      "outputs": [
        {
          "output_type": "execute_result",
          "data": {
            "text/plain": [
              "Index(['motor', 'automatico', 'ano_fabrica', 'km', 'fabricante_AUDI',\n",
              "       'fabricante_BMW', 'fabricante_CHEVROLET', 'fabricante_DODGE',\n",
              "       'fabricante_FIAT', 'fabricante_LAND ROVER', 'fabricante_MERCEDES-BENZ',\n",
              "       'fabricante_PORSCHE', 'fabricante_RENAULT', 'fabricante_VOLVO',\n",
              "       'combustivel_DIESEL', 'combustivel_FLEX', 'combustivel_GASOLINA',\n",
              "       'combustivel_HÍBRIDO', 'anunciante_Loja', 'anunciante_Pessoa Física'],\n",
              "      dtype='object')"
            ]
          },
          "metadata": {},
          "execution_count": 120
        }
      ]
    },
    {
      "cell_type": "markdown",
      "metadata": {
        "id": "sQ7R0dUngz8-"
      },
      "source": [
        "Na célula anterior estão as 20 variáveis mais importantes segundo o algoritmo SelectKBest do sklearn: ***motor, automatico, ano_fabrica, km, fabricante, combustível e anunciante***.\n",
        "\n",
        "Não vamos criar um modelo com apenas essas variáveis, mas sabemos que elas são importantes para as previsões."
      ]
    },
    {
      "cell_type": "markdown",
      "metadata": {
        "id": "dvBUtwULzAGP"
      },
      "source": [
        "##### ***Se removermos a variável estado e passarmos para o algoritmo do sklearn, como será o resultado?***"
      ]
    },
    {
      "cell_type": "code",
      "metadata": {
        "id": "n8E43OX-xRqc"
      },
      "source": [
        "# Dados de entrada e variável target\n",
        "X = carros.drop(['car', 'cidade', 'estado','ano_modelo','preco'], axis=1)\n",
        "y = carros.preco\n",
        "X = pd.get_dummies(X)\n",
        "# Train Test Split\n",
        "X_train, X_test, y_train, y_test = train_test_split(X, y, test_size=0.1, random_state=12)"
      ],
      "execution_count": null,
      "outputs": []
    },
    {
      "cell_type": "code",
      "metadata": {
        "colab": {
          "base_uri": "https://localhost:8080/"
        },
        "id": "oOwL3e6qxR1q",
        "outputId": "cf1240d7-d8ab-4d37-8a41-345e1181a3d6"
      },
      "source": [
        "# Modelo e Fit\n",
        "lr2 = LinearRegression().fit(X_train, y_train)\n",
        "pred_regressao2 = lr2.predict(X_test)\n",
        "\n",
        "resultados2 = regression_results(y_test, pred_regressao2)\n",
        "resultados2"
      ],
      "execution_count": null,
      "outputs": [
        {
          "output_type": "stream",
          "text": [
            "explained_variance:  0.7795\n",
            "r2:  0.7783\n",
            "MAE:  30207.3845\n",
            "MSE:  2102514585.6886\n",
            "RMSE:  45853.1851\n"
          ],
          "name": "stdout"
        },
        {
          "output_type": "execute_result",
          "data": {
            "text/plain": [
              "[0.7783000469554404, 30207.3844551252, 45853.18512043192]"
            ]
          },
          "metadata": {},
          "execution_count": 110
        }
      ]
    },
    {
      "cell_type": "code",
      "metadata": {
        "colab": {
          "base_uri": "https://localhost:8080/"
        },
        "id": "0u_3N6TwaXck",
        "outputId": "527b5dd4-3bc6-4289-e38c-ce2124d711c7"
      },
      "source": [
        "# 5 Previsões\n",
        "pd.DataFrame({'y':y_test, 'Pred': pred_regressao2}).head(5)"
      ],
      "execution_count": null,
      "outputs": [
        {
          "output_type": "execute_result",
          "data": {
            "text/html": [
              "<div>\n",
              "<style scoped>\n",
              "    .dataframe tbody tr th:only-of-type {\n",
              "        vertical-align: middle;\n",
              "    }\n",
              "\n",
              "    .dataframe tbody tr th {\n",
              "        vertical-align: top;\n",
              "    }\n",
              "\n",
              "    .dataframe thead th {\n",
              "        text-align: right;\n",
              "    }\n",
              "</style>\n",
              "<table border=\"1\" class=\"dataframe\">\n",
              "  <thead>\n",
              "    <tr style=\"text-align: right;\">\n",
              "      <th></th>\n",
              "      <th>y</th>\n",
              "      <th>Pred</th>\n",
              "    </tr>\n",
              "  </thead>\n",
              "  <tbody>\n",
              "    <tr>\n",
              "      <th>870</th>\n",
              "      <td>42000.0</td>\n",
              "      <td>37975.114737</td>\n",
              "    </tr>\n",
              "    <tr>\n",
              "      <th>1187</th>\n",
              "      <td>48990.0</td>\n",
              "      <td>21560.414071</td>\n",
              "    </tr>\n",
              "    <tr>\n",
              "      <th>10</th>\n",
              "      <td>479900.0</td>\n",
              "      <td>474757.470223</td>\n",
              "    </tr>\n",
              "    <tr>\n",
              "      <th>346</th>\n",
              "      <td>92800.0</td>\n",
              "      <td>66305.789536</td>\n",
              "    </tr>\n",
              "    <tr>\n",
              "      <th>400</th>\n",
              "      <td>458800.0</td>\n",
              "      <td>468653.050504</td>\n",
              "    </tr>\n",
              "  </tbody>\n",
              "</table>\n",
              "</div>"
            ],
            "text/plain": [
              "             y           Pred\n",
              "870    42000.0   37975.114737\n",
              "1187   48990.0   21560.414071\n",
              "10    479900.0  474757.470223\n",
              "346    92800.0   66305.789536\n",
              "400   458800.0  468653.050504"
            ]
          },
          "metadata": {},
          "execution_count": 111
        }
      ]
    },
    {
      "cell_type": "markdown",
      "metadata": {
        "id": "mQXG5N4zAGaT"
      },
      "source": [
        "A queda no valor do Root Mean Squared Error foi enorme. Mais de 50% de redução. Apesar do R² ter caído, nosso modelo performou melhor e parece ser mais generalizável com o algoritmo do Sklearn.\n",
        "\n",
        "\n",
        "Porém, a variável fabricante ainda parece não estar recebendo a devida importância.\n",
        "\n",
        "Vamos criar uma nova variável que diferencia marcas de luxo das outras e analisar os resultados."
      ]
    },
    {
      "cell_type": "code",
      "metadata": {
        "id": "uqE_FS5fAF1Q"
      },
      "source": [
        "# Marcas de Luxo foram escolhidas as marcas com média mais alta no dataset\n",
        "luxo = ['MERCEDES-BENZ', 'AUDI', 'BMW', 'LEXUS', 'LAND ROVER', 'PORSCHE','VOLVO', 'JAGUAR', 'DODGE', 'MINI']"
      ],
      "execution_count": null,
      "outputs": []
    },
    {
      "cell_type": "code",
      "metadata": {
        "id": "VroD7H_YAF0O"
      },
      "source": [
        "# Dados de entrada e variável target\n",
        "X = carros.drop(['car', 'cidade', 'estado', 'ano_modelo','preco'], axis=1)\n",
        "X['luxo'] = [1 if marca in luxo else 0 for marca in carros.fabricante]\n",
        "y = carros.preco\n",
        "\n",
        "X = pd.get_dummies(X)\n",
        "# Train Test Split\n",
        "X_train, X_test, y_train, y_test = train_test_split(X, y, test_size=0.1, random_state=12)"
      ],
      "execution_count": null,
      "outputs": []
    },
    {
      "cell_type": "code",
      "metadata": {
        "colab": {
          "base_uri": "https://localhost:8080/"
        },
        "id": "nkv0qayxAFwc",
        "outputId": "563842e1-d686-4a6e-f362-b1c7d85bcdd6"
      },
      "source": [
        "# Modelo e Fit\n",
        "lr3 = LinearRegression().fit(X_train, y_train)\n",
        "pred_regressao3 = lr3.predict(X_test)\n",
        "\n",
        "resultados3 = regression_results(y_test, pred_regressao3)\n",
        "resultados3"
      ],
      "execution_count": null,
      "outputs": [
        {
          "output_type": "stream",
          "text": [
            "explained_variance:  0.7827\n",
            "r2:  0.7817\n",
            "MAE:  30036.9532\n",
            "MSE:  2070162810.3948\n",
            "RMSE:  45499.0419\n"
          ],
          "name": "stdout"
        },
        {
          "output_type": "execute_result",
          "data": {
            "text/plain": [
              "[0.7817113845567928, 30036.953196828123, 45499.041862381724]"
            ]
          },
          "metadata": {},
          "execution_count": 72
        }
      ]
    },
    {
      "cell_type": "code",
      "metadata": {
        "colab": {
          "base_uri": "https://localhost:8080/"
        },
        "id": "rDwzX5DECM6Y",
        "outputId": "b12cd207-449a-469d-e3b2-209f78b95e38"
      },
      "source": [
        "# 5 Previsões\n",
        "pd.DataFrame({'y':y_test, 'Pred': pred_regressao3}).head(5)"
      ],
      "execution_count": null,
      "outputs": [
        {
          "output_type": "execute_result",
          "data": {
            "text/html": [
              "<div>\n",
              "<style scoped>\n",
              "    .dataframe tbody tr th:only-of-type {\n",
              "        vertical-align: middle;\n",
              "    }\n",
              "\n",
              "    .dataframe tbody tr th {\n",
              "        vertical-align: top;\n",
              "    }\n",
              "\n",
              "    .dataframe thead th {\n",
              "        text-align: right;\n",
              "    }\n",
              "</style>\n",
              "<table border=\"1\" class=\"dataframe\">\n",
              "  <thead>\n",
              "    <tr style=\"text-align: right;\">\n",
              "      <th></th>\n",
              "      <th>y</th>\n",
              "      <th>Pred</th>\n",
              "    </tr>\n",
              "  </thead>\n",
              "  <tbody>\n",
              "    <tr>\n",
              "      <th>870</th>\n",
              "      <td>42000.0</td>\n",
              "      <td>37975.114737</td>\n",
              "    </tr>\n",
              "    <tr>\n",
              "      <th>1187</th>\n",
              "      <td>48990.0</td>\n",
              "      <td>21560.414071</td>\n",
              "    </tr>\n",
              "    <tr>\n",
              "      <th>10</th>\n",
              "      <td>479900.0</td>\n",
              "      <td>474757.470223</td>\n",
              "    </tr>\n",
              "    <tr>\n",
              "      <th>346</th>\n",
              "      <td>92800.0</td>\n",
              "      <td>66305.789536</td>\n",
              "    </tr>\n",
              "    <tr>\n",
              "      <th>400</th>\n",
              "      <td>458800.0</td>\n",
              "      <td>468653.050504</td>\n",
              "    </tr>\n",
              "  </tbody>\n",
              "</table>\n",
              "</div>"
            ],
            "text/plain": [
              "             y           Pred\n",
              "870    42000.0   37975.114737\n",
              "1187   48990.0   21560.414071\n",
              "10    479900.0  474757.470223\n",
              "346    92800.0   66305.789536\n",
              "400   458800.0  468653.050504"
            ]
          },
          "metadata": {},
          "execution_count": 73
        }
      ]
    },
    {
      "cell_type": "markdown",
      "metadata": {
        "id": "x7W1bIwjOd4L"
      },
      "source": [
        "Vamos remover Outliers e não incluir a variável luxo, vamos ver o resultado."
      ]
    },
    {
      "cell_type": "code",
      "metadata": {
        "id": "lDr3lYhICDNb"
      },
      "source": [
        "# Dados de entrada e variável target\n",
        "q = carros.preco.quantile(.99)\n",
        "X_no = carros.query('preco <=@q')\n",
        "y_no = X_no.preco\n",
        "X_no = X_no.drop(['car', 'cidade', 'estado', 'ano_modelo','preco'], axis=1)\n",
        "\n",
        "\n",
        "X_no = pd.get_dummies(X_no)\n",
        "# Train Test Split\n",
        "X_train_no_outliers, X_test_no_outliers, y_train_no_outliers, y_test_no_outliers = train_test_split(X_no, y_no, test_size=0.1, random_state=12)"
      ],
      "execution_count": null,
      "outputs": []
    },
    {
      "cell_type": "code",
      "metadata": {
        "colab": {
          "base_uri": "https://localhost:8080/"
        },
        "id": "xYW-dj_bCCh6",
        "outputId": "b89bf014-3145-4217-9f4a-cecdf0d87639"
      },
      "source": [
        "# Modelo e Fit\n",
        "lr4 = LinearRegression().fit(X_train_no_outliers, y_train_no_outliers)\n",
        "pred_regressao4 = lr4.predict(X_test_no_outliers)\n",
        "\n",
        "resultados4= regression_results(y_test_no_outliers, pred_regressao4)\n",
        "resultados4"
      ],
      "execution_count": null,
      "outputs": [
        {
          "output_type": "stream",
          "text": [
            "explained_variance:  0.7829\n",
            "r2:  0.7747\n",
            "MAE:  24767.1479\n",
            "MSE:  1391804185.0945\n",
            "RMSE:  37306.8919\n"
          ],
          "name": "stdout"
        },
        {
          "output_type": "execute_result",
          "data": {
            "text/plain": [
              "[0.7747021436542147, 24767.14790838854, 37306.89192487788]"
            ]
          },
          "metadata": {},
          "execution_count": 143
        }
      ]
    },
    {
      "cell_type": "code",
      "metadata": {
        "colab": {
          "base_uri": "https://localhost:8080/"
        },
        "id": "-_8bjifOHV10",
        "outputId": "2ca99aa5-02ef-429b-8752-995f82e69e11"
      },
      "source": [
        "# 5 Previsões\n",
        "pd.DataFrame({'y':y_test_no_outliers, 'Pred': pred_regressao4}).head(5)"
      ],
      "execution_count": null,
      "outputs": [
        {
          "output_type": "execute_result",
          "data": {
            "text/html": [
              "<div>\n",
              "<style scoped>\n",
              "    .dataframe tbody tr th:only-of-type {\n",
              "        vertical-align: middle;\n",
              "    }\n",
              "\n",
              "    .dataframe tbody tr th {\n",
              "        vertical-align: top;\n",
              "    }\n",
              "\n",
              "    .dataframe thead th {\n",
              "        text-align: right;\n",
              "    }\n",
              "</style>\n",
              "<table border=\"1\" class=\"dataframe\">\n",
              "  <thead>\n",
              "    <tr style=\"text-align: right;\">\n",
              "      <th></th>\n",
              "      <th>y</th>\n",
              "      <th>Pred</th>\n",
              "    </tr>\n",
              "  </thead>\n",
              "  <tbody>\n",
              "    <tr>\n",
              "      <th>1074</th>\n",
              "      <td>36000.0</td>\n",
              "      <td>10720.047664</td>\n",
              "    </tr>\n",
              "    <tr>\n",
              "      <th>724</th>\n",
              "      <td>109900.0</td>\n",
              "      <td>101176.993297</td>\n",
              "    </tr>\n",
              "    <tr>\n",
              "      <th>144</th>\n",
              "      <td>85900.0</td>\n",
              "      <td>83087.590507</td>\n",
              "    </tr>\n",
              "    <tr>\n",
              "      <th>330</th>\n",
              "      <td>45290.0</td>\n",
              "      <td>64219.305288</td>\n",
              "    </tr>\n",
              "    <tr>\n",
              "      <th>793</th>\n",
              "      <td>44900.0</td>\n",
              "      <td>34612.022672</td>\n",
              "    </tr>\n",
              "  </tbody>\n",
              "</table>\n",
              "</div>"
            ],
            "text/plain": [
              "             y           Pred\n",
              "1074   36000.0   10720.047664\n",
              "724   109900.0  101176.993297\n",
              "144    85900.0   83087.590507\n",
              "330    45290.0   64219.305288\n",
              "793    44900.0   34612.022672"
            ]
          },
          "metadata": {},
          "execution_count": 144
        }
      ]
    },
    {
      "cell_type": "markdown",
      "metadata": {
        "id": "U69Y3bAmurL-"
      },
      "source": [
        "## Teste e Escolha do Melhor Algoritmo"
      ]
    },
    {
      "cell_type": "markdown",
      "metadata": {
        "id": "_iKGg-j1tvWe"
      },
      "source": [
        "Vamos agora testar outros algoritmos para comparar e escolher o melhor.\n",
        "\n",
        "Linear Regression *vs.* Ridge *vs.* Random Forest."
      ]
    },
    {
      "cell_type": "code",
      "metadata": {
        "id": "vzrplkHgvFIj"
      },
      "source": [
        "# Cria uma lista de instancias dos algoritmos que queremos testar\n",
        "models = [ ('Linear Model', LinearRegression()),\n",
        "           ('Random Forest', RandomForestRegressor()),\n",
        "           ('Ridge', Ridge()) ]"
      ],
      "execution_count": null,
      "outputs": []
    },
    {
      "cell_type": "code",
      "metadata": {
        "colab": {
          "base_uri": "https://localhost:8080/"
        },
        "id": "ReFx8rmkuvQY",
        "outputId": "055008fd-66d8-4194-d7dc-bee8da6741be"
      },
      "source": [
        "# Criando listas para armazenar resultados\n",
        "results =[]\n",
        "names = []\n",
        "\n",
        "# Testa 3 models\n",
        "for name, model in models:\n",
        "  #cv = cross_validate(model, X_train, y_train, cv=10 ,scoring='r2', return_estimator=True) \n",
        "  cv = cross_validate(model, X_train_no_outliers, y_train_no_outliers, cv=10 ,scoring='r2', return_estimator=True) \n",
        "  results.append(cv)\n",
        "  names.append(name)\n",
        "  print(f'+ Model : {name}')\n",
        "  print(f'Mean: {np.mean(cv[\"test_score\"]).round(3)} | Std: {np.std(cv[\"test_score\"]).round(3)} ')\n",
        "  print('--------------------')"
      ],
      "execution_count": null,
      "outputs": [
        {
          "output_type": "stream",
          "text": [
            "+ Model : Linear Model\n",
            "Mean: 0.846 | Std: 0.044 \n",
            "--------------------\n",
            "+ Model : Random Forest\n",
            "Mean: 0.901 | Std: 0.016 \n",
            "--------------------\n",
            "+ Model : Ridge\n",
            "Mean: 0.846 | Std: 0.045 \n",
            "--------------------\n"
          ],
          "name": "stdout"
        }
      ]
    },
    {
      "cell_type": "markdown",
      "metadata": {
        "id": "USDpJ5520Afg"
      },
      "source": [
        "Escolheremos o modelo Random Forest Regressor. Para tentar melhora-lo, ainda vamos rodar o GridSearchCV, a fim de otimizar os parâmetros e também usar o poder do cross validation, o que aumenta a significação estatística do modelo."
      ]
    },
    {
      "cell_type": "code",
      "metadata": {
        "id": "hYCdLmGqz_Pt"
      },
      "source": [
        "# Instanciando o modelo\n",
        "rf_model = RandomForestRegressor(random_state=12)\n",
        "\n",
        "# Listando os hiperparâmetros a serem testados\n",
        "params = {'n_estimators' : [50, 100],\n",
        "          'min_samples_split':[2,3],\n",
        "           'min_samples_leaf':[2,10],\n",
        "          'max_leaf_nodes': [None,2,5],\n",
        "          'ccp_alpha': [0,0.001,0.1, 1,2]}\n",
        "\n"
      ],
      "execution_count": null,
      "outputs": []
    },
    {
      "cell_type": "code",
      "metadata": {
        "colab": {
          "base_uri": "https://localhost:8080/"
        },
        "id": "FbbU2jgF3Snq",
        "outputId": "1a0f5978-88ff-4ad8-a32f-2309c9f0ae7f"
      },
      "source": [
        "# Grid Search\n",
        "grid = GridSearchCV(rf_model,\n",
        "                    param_grid=params,\n",
        "                    scoring=['r2', 'neg_mean_squared_error'],\n",
        "                    refit='neg_mean_squared_error', \n",
        "                    verbose=0)\n",
        "\n",
        "# Fit the grid search\n",
        "grid.fit(X_train_no_outliers, y_train_no_outliers)"
      ],
      "execution_count": null,
      "outputs": [
        {
          "output_type": "execute_result",
          "data": {
            "text/plain": [
              "GridSearchCV(cv=None, error_score=nan,\n",
              "             estimator=RandomForestRegressor(bootstrap=True, ccp_alpha=0.0,\n",
              "                                             criterion='mse', max_depth=None,\n",
              "                                             max_features='auto',\n",
              "                                             max_leaf_nodes=None,\n",
              "                                             max_samples=None,\n",
              "                                             min_impurity_decrease=0.0,\n",
              "                                             min_impurity_split=None,\n",
              "                                             min_samples_leaf=1,\n",
              "                                             min_samples_split=2,\n",
              "                                             min_weight_fraction_leaf=0.0,\n",
              "                                             n_estimators=100, n_jobs=None,\n",
              "                                             oob_score=False, random_state=12,\n",
              "                                             verbose=0, warm_start=False),\n",
              "             iid='deprecated', n_jobs=None,\n",
              "             param_grid={'ccp_alpha': [0, 0.001, 0.1, 1, 2],\n",
              "                         'max_leaf_nodes': [None, 2, 5],\n",
              "                         'min_samples_leaf': [2, 10],\n",
              "                         'min_samples_split': [2, 3],\n",
              "                         'n_estimators': [50, 100]},\n",
              "             pre_dispatch='2*n_jobs', refit='neg_mean_squared_error',\n",
              "             return_train_score=False, scoring=['r2', 'neg_mean_squared_error'],\n",
              "             verbose=0)"
            ]
          },
          "metadata": {},
          "execution_count": 148
        }
      ]
    },
    {
      "cell_type": "code",
      "metadata": {
        "colab": {
          "base_uri": "https://localhost:8080/"
        },
        "id": "IIJol6sh3SZh",
        "outputId": "a9f6c15f-bd5f-448d-dbc9-2d5e8e842be3"
      },
      "source": [
        "# Check the best estimator\n",
        "print(grid.best_estimator_)\n",
        "\n",
        "# Use the trained best model\n",
        "best_model = grid.best_estimator_"
      ],
      "execution_count": null,
      "outputs": [
        {
          "output_type": "stream",
          "text": [
            "RandomForestRegressor(bootstrap=True, ccp_alpha=1, criterion='mse',\n",
            "                      max_depth=None, max_features='auto', max_leaf_nodes=None,\n",
            "                      max_samples=None, min_impurity_decrease=0.0,\n",
            "                      min_impurity_split=None, min_samples_leaf=2,\n",
            "                      min_samples_split=2, min_weight_fraction_leaf=0.0,\n",
            "                      n_estimators=100, n_jobs=None, oob_score=False,\n",
            "                      random_state=12, verbose=0, warm_start=False)\n"
          ],
          "name": "stdout"
        }
      ]
    },
    {
      "cell_type": "code",
      "metadata": {
        "colab": {
          "base_uri": "https://localhost:8080/"
        },
        "id": "Q4tM57o1lD9l",
        "outputId": "9c5440cf-8de8-43d9-93da-a4c402a8f1ee"
      },
      "source": [
        "X_test.columns"
      ],
      "execution_count": null,
      "outputs": [
        {
          "output_type": "execute_result",
          "data": {
            "text/plain": [
              "Index(['motor', 'automatico', 'ano_fabrica', 'km', 'combustivel_DIESEL',\n",
              "       'combustivel_FLEX', 'combustivel_GASOLINA', 'combustivel_HÍBRIDO',\n",
              "       'anunciante_Concessionária', 'anunciante_Loja',\n",
              "       'anunciante_Pessoa Física', 'fabricante_AUDI', 'fabricante_BMW',\n",
              "       'fabricante_CHERY', 'fabricante_CHEVROLET', 'fabricante_CITROEN',\n",
              "       'fabricante_DODGE', 'fabricante_FIAT', 'fabricante_FORD',\n",
              "       'fabricante_HONDA', 'fabricante_HYUNDAI', 'fabricante_JAC',\n",
              "       'fabricante_JAGUAR', 'fabricante_JEEP', 'fabricante_KIA',\n",
              "       'fabricante_LAND ROVER', 'fabricante_LEXUS', 'fabricante_LIFAN',\n",
              "       'fabricante_MERCEDES-BENZ', 'fabricante_MINI', 'fabricante_MITSUBISHI',\n",
              "       'fabricante_NISSAN', 'fabricante_PEUGEOT', 'fabricante_PORSCHE',\n",
              "       'fabricante_RENAULT', 'fabricante_SUZUKI', 'fabricante_TOYOTA',\n",
              "       'fabricante_VOLKSWAGEN', 'fabricante_VOLVO'],\n",
              "      dtype='object')"
            ]
          },
          "metadata": {},
          "execution_count": 157
        }
      ]
    },
    {
      "cell_type": "code",
      "metadata": {
        "colab": {
          "base_uri": "https://localhost:8080/"
        },
        "id": "vuC103CflGdX",
        "outputId": "f20372c4-c255-4a75-a40e-210ea389a5f0"
      },
      "source": [
        "X_test_no_outliers.columns"
      ],
      "execution_count": null,
      "outputs": [
        {
          "output_type": "execute_result",
          "data": {
            "text/plain": [
              "Index(['motor', 'automatico', 'ano_fabrica', 'km', 'fabricante_AUDI',\n",
              "       'fabricante_BMW', 'fabricante_CHERY', 'fabricante_CHEVROLET',\n",
              "       'fabricante_CITROEN', 'fabricante_DODGE', 'fabricante_FIAT',\n",
              "       'fabricante_FORD', 'fabricante_HONDA', 'fabricante_HYUNDAI',\n",
              "       'fabricante_JAC', 'fabricante_JAGUAR', 'fabricante_JEEP',\n",
              "       'fabricante_KIA', 'fabricante_LAND ROVER', 'fabricante_LEXUS',\n",
              "       'fabricante_LIFAN', 'fabricante_MERCEDES-BENZ', 'fabricante_MINI',\n",
              "       'fabricante_MITSUBISHI', 'fabricante_NISSAN', 'fabricante_PEUGEOT',\n",
              "       'fabricante_PORSCHE', 'fabricante_RENAULT', 'fabricante_SUZUKI',\n",
              "       'fabricante_TOYOTA', 'fabricante_VOLKSWAGEN', 'fabricante_VOLVO',\n",
              "       'combustivel_DIESEL', 'combustivel_FLEX', 'combustivel_GASOLINA',\n",
              "       'combustivel_HÍBRIDO', 'anunciante_Concessionária', 'anunciante_Loja',\n",
              "       'anunciante_Pessoa Física', 'regiao_Centro-Oeste', 'regiao_Nordeste',\n",
              "       'regiao_Norte', 'regiao_Sudeste', 'regiao_Sul'],\n",
              "      dtype='object')"
            ]
          },
          "metadata": {},
          "execution_count": 159
        }
      ]
    },
    {
      "cell_type": "code",
      "metadata": {
        "colab": {
          "base_uri": "https://localhost:8080/"
        },
        "id": "FzrnTZqM4QFN",
        "outputId": "5a363341-3013-4d70-ff27-5f1151f62093"
      },
      "source": [
        "# Predictions\n",
        "preds = best_model.predict(X_test)\n",
        "# Score\n",
        "best_model.score(X_test, y_test).round(3)"
      ],
      "execution_count": null,
      "outputs": [
        {
          "output_type": "execute_result",
          "data": {
            "text/plain": [
              "0.951"
            ]
          },
          "metadata": {},
          "execution_count": 165
        }
      ]
    },
    {
      "cell_type": "code",
      "metadata": {
        "colab": {
          "base_uri": "https://localhost:8080/"
        },
        "id": "EHOPJmPg5jtG",
        "outputId": "47172779-ccdc-47de-8a6a-a9fdac665f33"
      },
      "source": [
        "resultados5 = regression_results(y_test, preds)\n",
        "resultados5"
      ],
      "execution_count": null,
      "outputs": [
        {
          "output_type": "stream",
          "text": [
            "explained_variance:  0.9509\n",
            "r2:  0.9508\n",
            "MAE:  11112.8805\n",
            "MSE:  466321407.5395\n",
            "RMSE:  21594.4763\n"
          ],
          "name": "stdout"
        },
        {
          "output_type": "execute_result",
          "data": {
            "text/plain": [
              "[0.9508286720772918, 11112.880537932237, 21594.47632010232]"
            ]
          },
          "metadata": {},
          "execution_count": 164
        }
      ]
    },
    {
      "cell_type": "code",
      "metadata": {
        "id": "GhLDo6E3uJgP"
      },
      "source": [
        "# Salva modelo para Aplicação no Streamlit\n",
        "filename = 'RF_car_prices.sav'\n",
        "pickle.dump(best_model, open(filename, 'wb'))"
      ],
      "execution_count": null,
      "outputs": []
    },
    {
      "cell_type": "markdown",
      "metadata": {
        "id": "7RNuR_ynuvyb"
      },
      "source": [
        "## Avaliação do Modelo"
      ]
    },
    {
      "cell_type": "code",
      "metadata": {
        "colab": {
          "base_uri": "https://localhost:8080/"
        },
        "id": "t9txJm3y5hYe",
        "outputId": "4943032f-4183-4ca7-ca56-c367f34a561e"
      },
      "source": [
        "# Performance dos Modelos\n",
        "pd.DataFrame({'Regressão1':resultados1,\n",
        "             'Regressão2': resultados2,\n",
        "             'Regressão3': resultados3,\n",
        "              'Regressão4': resultados4,\n",
        "             'RandomForest': resultados5}, \n",
        "             index=['r2', 'MAE', 'RMSE']).style.format('{:,.2f}')"
      ],
      "execution_count": null,
      "outputs": [
        {
          "output_type": "execute_result",
          "data": {
            "text/html": [
              "<style  type=\"text/css\" >\n",
              "</style><table id=\"T_c0bdf6f4_0a66_11ec_b8b1_0242ac1c0002\" ><thead>    <tr>        <th class=\"blank level0\" ></th>        <th class=\"col_heading level0 col0\" >Regressão1</th>        <th class=\"col_heading level0 col1\" >Regressão2</th>        <th class=\"col_heading level0 col2\" >Regressão3</th>        <th class=\"col_heading level0 col3\" >Regressão4</th>        <th class=\"col_heading level0 col4\" >RandomForest</th>    </tr></thead><tbody>\n",
              "                <tr>\n",
              "                        <th id=\"T_c0bdf6f4_0a66_11ec_b8b1_0242ac1c0002level0_row0\" class=\"row_heading level0 row0\" >r2</th>\n",
              "                        <td id=\"T_c0bdf6f4_0a66_11ec_b8b1_0242ac1c0002row0_col0\" class=\"data row0 col0\" >-0.47</td>\n",
              "                        <td id=\"T_c0bdf6f4_0a66_11ec_b8b1_0242ac1c0002row0_col1\" class=\"data row0 col1\" >0.78</td>\n",
              "                        <td id=\"T_c0bdf6f4_0a66_11ec_b8b1_0242ac1c0002row0_col2\" class=\"data row0 col2\" >0.78</td>\n",
              "                        <td id=\"T_c0bdf6f4_0a66_11ec_b8b1_0242ac1c0002row0_col3\" class=\"data row0 col3\" >0.77</td>\n",
              "                        <td id=\"T_c0bdf6f4_0a66_11ec_b8b1_0242ac1c0002row0_col4\" class=\"data row0 col4\" >0.95</td>\n",
              "            </tr>\n",
              "            <tr>\n",
              "                        <th id=\"T_c0bdf6f4_0a66_11ec_b8b1_0242ac1c0002level0_row1\" class=\"row_heading level0 row1\" >MAE</th>\n",
              "                        <td id=\"T_c0bdf6f4_0a66_11ec_b8b1_0242ac1c0002row1_col0\" class=\"data row1 col0\" >38,800.32</td>\n",
              "                        <td id=\"T_c0bdf6f4_0a66_11ec_b8b1_0242ac1c0002row1_col1\" class=\"data row1 col1\" >30,207.38</td>\n",
              "                        <td id=\"T_c0bdf6f4_0a66_11ec_b8b1_0242ac1c0002row1_col2\" class=\"data row1 col2\" >30,036.95</td>\n",
              "                        <td id=\"T_c0bdf6f4_0a66_11ec_b8b1_0242ac1c0002row1_col3\" class=\"data row1 col3\" >24,767.15</td>\n",
              "                        <td id=\"T_c0bdf6f4_0a66_11ec_b8b1_0242ac1c0002row1_col4\" class=\"data row1 col4\" >11,112.88</td>\n",
              "            </tr>\n",
              "            <tr>\n",
              "                        <th id=\"T_c0bdf6f4_0a66_11ec_b8b1_0242ac1c0002level0_row2\" class=\"row_heading level0 row2\" >RMSE</th>\n",
              "                        <td id=\"T_c0bdf6f4_0a66_11ec_b8b1_0242ac1c0002row2_col0\" class=\"data row2 col0\" >117,896.36</td>\n",
              "                        <td id=\"T_c0bdf6f4_0a66_11ec_b8b1_0242ac1c0002row2_col1\" class=\"data row2 col1\" >45,853.19</td>\n",
              "                        <td id=\"T_c0bdf6f4_0a66_11ec_b8b1_0242ac1c0002row2_col2\" class=\"data row2 col2\" >45,499.04</td>\n",
              "                        <td id=\"T_c0bdf6f4_0a66_11ec_b8b1_0242ac1c0002row2_col3\" class=\"data row2 col3\" >37,306.89</td>\n",
              "                        <td id=\"T_c0bdf6f4_0a66_11ec_b8b1_0242ac1c0002row2_col4\" class=\"data row2 col4\" >21,594.48</td>\n",
              "            </tr>\n",
              "    </tbody></table>"
            ],
            "text/plain": [
              "<pandas.io.formats.style.Styler at 0x7ff812820190>"
            ]
          },
          "metadata": {},
          "execution_count": 166
        }
      ]
    },
    {
      "cell_type": "code",
      "metadata": {
        "id": "21cemuyKR3j2"
      },
      "source": [
        "X_car = X_test.merge(carros.car, left_index=True, right_index=True)['car']"
      ],
      "execution_count": null,
      "outputs": []
    },
    {
      "cell_type": "code",
      "metadata": {
        "colab": {
          "base_uri": "https://localhost:8080/"
        },
        "id": "xKPfJjWjuypx",
        "outputId": "4daa966f-ffda-49d8-ba9b-9d8375890bc8"
      },
      "source": [
        "# Dataframe Predictions\n",
        "\n",
        "performance = pd.DataFrame({'automóvel':X_car , 'y_True': y_test, 'Predictions': preds, 'Difference':preds.round() - y_test})\n",
        "performance.head(5)"
      ],
      "execution_count": null,
      "outputs": [
        {
          "output_type": "execute_result",
          "data": {
            "text/html": [
              "<div>\n",
              "<style scoped>\n",
              "    .dataframe tbody tr th:only-of-type {\n",
              "        vertical-align: middle;\n",
              "    }\n",
              "\n",
              "    .dataframe tbody tr th {\n",
              "        vertical-align: top;\n",
              "    }\n",
              "\n",
              "    .dataframe thead th {\n",
              "        text-align: right;\n",
              "    }\n",
              "</style>\n",
              "<table border=\"1\" class=\"dataframe\">\n",
              "  <thead>\n",
              "    <tr style=\"text-align: right;\">\n",
              "      <th></th>\n",
              "      <th>automóvel</th>\n",
              "      <th>y_True</th>\n",
              "      <th>Predictions</th>\n",
              "      <th>Difference</th>\n",
              "    </tr>\n",
              "  </thead>\n",
              "  <tbody>\n",
              "    <tr>\n",
              "      <th>870</th>\n",
              "      <td>RENAULT KWID</td>\n",
              "      <td>42000.0</td>\n",
              "      <td>43161.463254</td>\n",
              "      <td>1161.0</td>\n",
              "    </tr>\n",
              "    <tr>\n",
              "      <th>1187</th>\n",
              "      <td>RENAULT LOGAN</td>\n",
              "      <td>48990.0</td>\n",
              "      <td>49735.627976</td>\n",
              "      <td>746.0</td>\n",
              "    </tr>\n",
              "    <tr>\n",
              "      <th>10</th>\n",
              "      <td>PORSCHE MACAN</td>\n",
              "      <td>479900.0</td>\n",
              "      <td>334624.521905</td>\n",
              "      <td>-145275.0</td>\n",
              "    </tr>\n",
              "    <tr>\n",
              "      <th>346</th>\n",
              "      <td>CHEVROLET ONIX</td>\n",
              "      <td>92800.0</td>\n",
              "      <td>92649.541825</td>\n",
              "      <td>-150.0</td>\n",
              "    </tr>\n",
              "    <tr>\n",
              "      <th>400</th>\n",
              "      <td>DODGE RAM</td>\n",
              "      <td>458800.0</td>\n",
              "      <td>491993.107222</td>\n",
              "      <td>33193.0</td>\n",
              "    </tr>\n",
              "  </tbody>\n",
              "</table>\n",
              "</div>"
            ],
            "text/plain": [
              "           automóvel    y_True    Predictions  Difference\n",
              "870     RENAULT KWID   42000.0   43161.463254      1161.0\n",
              "1187   RENAULT LOGAN   48990.0   49735.627976       746.0\n",
              "10     PORSCHE MACAN  479900.0  334624.521905   -145275.0\n",
              "346   CHEVROLET ONIX   92800.0   92649.541825      -150.0\n",
              "400        DODGE RAM  458800.0  491993.107222     33193.0"
            ]
          },
          "metadata": {},
          "execution_count": 168
        }
      ]
    },
    {
      "cell_type": "code",
      "metadata": {
        "colab": {
          "base_uri": "https://localhost:8080/"
        },
        "id": "XmjbTwZLS5qT",
        "outputId": "5a7dfd35-889b-4bd4-95db-09b9f80e614d"
      },
      "source": [
        "# Errors Scatterplot\n",
        "sns.scatterplot(data=performance, x='y_True', y='Predictions', hue='Difference', size='Difference', alpha=.8);"
      ],
      "execution_count": null,
      "outputs": [
        {
          "output_type": "display_data",
          "data": {
            "image/png": "[encoded data removed]",
            "text/plain": [
              "<Figure size 432x288 with 1 Axes>"
            ]
          },
          "metadata": {}
        }
      ]
    },
    {
      "cell_type": "code",
      "metadata": {
        "colab": {
          "base_uri": "https://localhost:8080/"
        },
        "id": "RP2PK3pgTzN6",
        "outputId": "b16b5f14-650c-421a-ba16-a04c75e67630"
      },
      "source": [
        "# Errors QQPlot\n",
        "sm.qqplot(performance.Difference, line='s');"
      ],
      "execution_count": null,
      "outputs": [
        {
          "output_type": "display_data",
          "data": {
            "image/png": "[encoded data removed]",
            "text/plain": [
              "<Figure size 432x288 with 1 Axes>"
            ]
          },
          "metadata": {}
        }
      ]
    },
    {
      "cell_type": "code",
      "metadata": {
        "colab": {
          "base_uri": "https://localhost:8080/"
        },
        "id": "Eu0us12T_3NW",
        "outputId": "1c15fe1d-3f32-4617-d771-3a90ac9f9c10"
      },
      "source": [
        "performance.Difference.hist();"
      ],
      "execution_count": null,
      "outputs": [
        {
          "output_type": "display_data",
          "data": {
            "image/png": "[encoded data removed]",
            "text/plain": [
              "<Figure size 432x288 with 1 Axes>"
            ]
          },
          "metadata": {}
        }
      ]
    },
    {
      "cell_type": "markdown",
      "metadata": {
        "id": "OHsa6aNzqAg3"
      },
      "source": [
        "Concluimos nosso estudo com um modelo que explica a variação de aproximadamente 95% do dataset. Olhando para esses resultados, vemos que os outliers causam  ruído no modelo e que a pequena quantidade de observações no dataset também influenciam o resultado do modelo.\n",
        "\n",
        "Como exemplo, temos a previsão do algumas marcas como o Porsche com uma diferença de quase R$150 mil, e sabemos que temos poucos carros de alguns fabricantes com uma variação bem grande, dificultando ao modelo chegar em um resultado mais próximo."
      ]
    },
    {
      "cell_type": "markdown",
      "metadata": {
        "id": "gHEwodP1I3w6"
      },
      "source": [
        "#***FIM***"
      ]
    },
    {
      "cell_type": "code",
      "metadata": {
        "id": "WFGFnj1w8xsd"
      },
      "source": [
        "df_to_predict = pd.DataFrame({'ano_fabrica': [2019], 'anunciante_Concessionária': [0], 'anunciante_Loja': [1], 'anunciante_Pessoa Física': [0], 'automatico': [1], 'combustivel_DIESEL': [0],\n",
        " 'combustivel_FLEX': [1], 'combustivel_GASOLINA': [0], 'combustivel_HÍBRIDO': [0], 'fabricante_AUDI': [0], 'fabricante_BMW': [0], 'fabricante_CHERY': [0], 'fabricante_CHEVROLET': [0],\n",
        " 'fabricante_CITROEN': [0], 'fabricante_DODGE': [0], 'fabricante_FIAT': [0], 'fabricante_FORD': [0], 'fabricante_HONDA': [0], 'fabricante_HYUNDAI': [0], 'fabricante_JAC': [0], 'fabricante_JAGUAR': [0],\n",
        " 'fabricante_JEEP': [1], 'fabricante_KIA': [0], 'fabricante_LAND ROVER': [0], 'fabricante_LEXUS': [0], 'fabricante_LIFAN': [0], 'fabricante_MERCEDES-BENZ': [0], 'fabricante_MINI': [0], 'fabricante_MITSUBISHI': [0],\n",
        " 'fabricante_NISSAN': [0], 'fabricante_PEUGEOT': [0], 'fabricante_PORSCHE': [0], 'fabricante_RENAULT': [0], 'fabricante_SUZUKI': [0], 'fabricante_TOYOTA': [0], 'fabricante_VOLKSWAGEN': [0], 'fabricante_VOLVO': [0],\n",
        " 'km': [7500], 'motor': [1.8], 'regiao_Centro-Oeste': [0], 'regiao_Nordeste': [1], 'regiao_Norte': [0], 'regiao_Sudeste': [0], 'regiao_Sul': [0]})"
      ],
      "execution_count": null,
      "outputs": []
    },
    {
      "cell_type": "code",
      "metadata": {
        "id": "Et_vsQMlJyOg"
      },
      "source": [
        "df_to_predict = df_to_predict.reindex(columns=X_test.columns)"
      ],
      "execution_count": null,
      "outputs": []
    },
    {
      "cell_type": "code",
      "metadata": {
        "colab": {
          "base_uri": "https://localhost:8080/",
          "height": 35
        },
        "id": "ERAAXzRCH7U1",
        "outputId": "6c0a5d07-e26c-4868-94bf-41e19c390be3"
      },
      "source": [
        "#Previsão do modelo\n",
        "previsao = best_model.predict(df_to_predict)\n",
        "previsao = previsao.tolist()[0]\n",
        "previsao = f' R$ { round( previsao , 2 ):,}'\n",
        "\n",
        "previsao"
      ],
      "execution_count": null,
      "outputs": [
        {
          "output_type": "execute_result",
          "data": {
            "application/vnd.google.colaboratory.intrinsic+json": {
              "type": "string"
            },
            "text/plain": [
              "' R$ 93,486.82'"
            ]
          },
          "metadata": {},
          "execution_count": 260
        }
      ]
    },
    {
      "cell_type": "code",
      "metadata": {
        "id": "7wZ2okNeJ6jP"
      },
      "source": [
        ""
      ],
      "execution_count": null,
      "outputs": []
    }
  ]
}